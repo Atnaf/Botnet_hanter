{
 "cells": [
  {
   "cell_type": "code",
   "execution_count": 8,
   "metadata": {},
   "outputs": [],
   "source": [
    "import pandas as pd\n",
    "from sklearn.inspection import permutation_importance\n",
    "from sklearn.impute import SimpleImputer\n",
    "from sklearn.tree import DecisionTreeClassifier\n",
    "from sklearn.ensemble import RandomForestRegressor\n",
    "import numpy as np\n",
    "from genetic_selection import GeneticSelectionCV\n",
    "import tensorflow as tf\n",
    "from imblearn.over_sampling import SMOTE\n",
    "import cufflinks as cfs\n",
    "from numpy.random import permutation\n",
    "import scipy.stats as sts\n",
    "from matplotlib import pyplot as plt\n",
    "from sklearn.model_selection import train_test_split,GridSearchCV\n",
    "from sklearn.metrics import accuracy_score\n",
    "from sklearn.metrics import confusion_matrix\n",
    "from sklearn.metrics import classification_report\n",
    "from sklearn.metrics import roc_auc_score,roc_curve\n",
    "from sklearn.preprocessing import MinMaxScaler,LabelEncoder\n",
    "from keras import Sequential, regularizers, optimizers\n",
    "from keras.layers import Dense, Dropout\n",
    "from keras.wrappers.scikit_learn import KerasClassifier\n",
    "from sklearn.feature_selection import f_regression,mutual_info_classif\n",
    "from sklearn.feature_selection import SelectKBest\n",
    "from sklearn.model_selection import KFold\n",
    "import time"
   ]
  },
  {
   "cell_type": "code",
   "execution_count": 2,
   "metadata": {},
   "outputs": [
    {
     "name": "stdout",
     "output_type": "stream",
     "text": [
      "Raw dataset (190911, 78)\n",
      "No of Botnet data from Raw Dataset (1956, 1)\n",
      "No of Benign data from Raw Dataset (188955, 1)\n"
     ]
    }
   ],
   "source": [
    "load_dataa=pd.read_csv(\"Bot_ISCX.csv\")\n",
    "# load_dataa=load_dataa.drop(['Flow ID', ' Source IP', ' Source Port', ' Destination IP',\n",
    "#        ' Destination Port', ' Protocol', ' Timestamp'],axis=1)\n",
    "print('Raw dataset',load_dataa.shape)\n",
    "label_encode=LabelEncoder()\n",
    "y_load=label_encode.fit_transform(load_dataa[\"Label\"])\n",
    "y_=pd.DataFrame(y_load)\n",
    "y_.columns=['Label']\n",
    "x_=load_dataa.drop('Label', axis=1)\n",
    "class_00=y_[y_['Label']==0]\n",
    "class_11=y_[y_['Label']==1]\n",
    "print('No of Botnet data from Raw Dataset', class_11.shape)\n",
    "print('No of Benign data from Raw Dataset', class_00.shape)"
   ]
  },
  {
   "cell_type": "code",
   "execution_count": 3,
   "metadata": {},
   "outputs": [
    {
     "data": {
      "text/html": [
       "        <script type=\"text/javascript\">\n",
       "        window.PlotlyConfig = {MathJaxConfig: 'local'};\n",
       "        if (window.MathJax && window.MathJax.Hub && window.MathJax.Hub.Config) {window.MathJax.Hub.Config({SVG: {font: \"STIX-Web\"}});}\n",
       "        if (typeof require !== 'undefined') {\n",
       "        require.undef(\"plotly\");\n",
       "        requirejs.config({\n",
       "            paths: {\n",
       "                'plotly': ['https://cdn.plot.ly/plotly-2.12.1.min']\n",
       "            }\n",
       "        });\n",
       "        require(['plotly'], function(Plotly) {\n",
       "            window._Plotly = Plotly;\n",
       "        });\n",
       "        }\n",
       "        </script>\n",
       "        "
      ]
     },
     "metadata": {},
     "output_type": "display_data"
    },
    {
     "data": {
      "application/vnd.plotly.v1+json": {
       "config": {
        "linkText": "Export to plot.ly",
        "plotlyServerURL": "https://plot.ly",
        "showLink": true
       },
       "data": [
        {
         "marker": {
          "color": "rgba(55, 128, 191, 0.6)",
          "line": {
           "color": "rgba(55, 128, 191, 1.0)",
           "width": 1
          }
         },
         "name": "State",
         "orientation": "v",
         "text": "",
         "type": "bar",
         "x": [
          "Bening",
          "Botnet"
         ],
         "y": [
          188955,
          1956
         ]
        }
       ],
       "layout": {
        "bargap": 0.2,
        "height": 450,
        "legend": {
         "bgcolor": "#F2F3F7",
         "font": {
          "color": "#505050"
         }
        },
        "paper_bgcolor": "#F2F3F7",
        "plot_bgcolor": "#F2F3F7",
        "template": {
         "data": {
          "bar": [
           {
            "error_x": {
             "color": "#2a3f5f"
            },
            "error_y": {
             "color": "#2a3f5f"
            },
            "marker": {
             "line": {
              "color": "#E5ECF6",
              "width": 0.5
             },
             "pattern": {
              "fillmode": "overlay",
              "size": 10,
              "solidity": 0.2
             }
            },
            "type": "bar"
           }
          ],
          "barpolar": [
           {
            "marker": {
             "line": {
              "color": "#E5ECF6",
              "width": 0.5
             },
             "pattern": {
              "fillmode": "overlay",
              "size": 10,
              "solidity": 0.2
             }
            },
            "type": "barpolar"
           }
          ],
          "carpet": [
           {
            "aaxis": {
             "endlinecolor": "#2a3f5f",
             "gridcolor": "white",
             "linecolor": "white",
             "minorgridcolor": "white",
             "startlinecolor": "#2a3f5f"
            },
            "baxis": {
             "endlinecolor": "#2a3f5f",
             "gridcolor": "white",
             "linecolor": "white",
             "minorgridcolor": "white",
             "startlinecolor": "#2a3f5f"
            },
            "type": "carpet"
           }
          ],
          "choropleth": [
           {
            "colorbar": {
             "outlinewidth": 0,
             "ticks": ""
            },
            "type": "choropleth"
           }
          ],
          "contour": [
           {
            "colorbar": {
             "outlinewidth": 0,
             "ticks": ""
            },
            "colorscale": [
             [
              0,
              "#0d0887"
             ],
             [
              0.1111111111111111,
              "#46039f"
             ],
             [
              0.2222222222222222,
              "#7201a8"
             ],
             [
              0.3333333333333333,
              "#9c179e"
             ],
             [
              0.4444444444444444,
              "#bd3786"
             ],
             [
              0.5555555555555556,
              "#d8576b"
             ],
             [
              0.6666666666666666,
              "#ed7953"
             ],
             [
              0.7777777777777778,
              "#fb9f3a"
             ],
             [
              0.8888888888888888,
              "#fdca26"
             ],
             [
              1,
              "#f0f921"
             ]
            ],
            "type": "contour"
           }
          ],
          "contourcarpet": [
           {
            "colorbar": {
             "outlinewidth": 0,
             "ticks": ""
            },
            "type": "contourcarpet"
           }
          ],
          "heatmap": [
           {
            "colorbar": {
             "outlinewidth": 0,
             "ticks": ""
            },
            "colorscale": [
             [
              0,
              "#0d0887"
             ],
             [
              0.1111111111111111,
              "#46039f"
             ],
             [
              0.2222222222222222,
              "#7201a8"
             ],
             [
              0.3333333333333333,
              "#9c179e"
             ],
             [
              0.4444444444444444,
              "#bd3786"
             ],
             [
              0.5555555555555556,
              "#d8576b"
             ],
             [
              0.6666666666666666,
              "#ed7953"
             ],
             [
              0.7777777777777778,
              "#fb9f3a"
             ],
             [
              0.8888888888888888,
              "#fdca26"
             ],
             [
              1,
              "#f0f921"
             ]
            ],
            "type": "heatmap"
           }
          ],
          "heatmapgl": [
           {
            "colorbar": {
             "outlinewidth": 0,
             "ticks": ""
            },
            "colorscale": [
             [
              0,
              "#0d0887"
             ],
             [
              0.1111111111111111,
              "#46039f"
             ],
             [
              0.2222222222222222,
              "#7201a8"
             ],
             [
              0.3333333333333333,
              "#9c179e"
             ],
             [
              0.4444444444444444,
              "#bd3786"
             ],
             [
              0.5555555555555556,
              "#d8576b"
             ],
             [
              0.6666666666666666,
              "#ed7953"
             ],
             [
              0.7777777777777778,
              "#fb9f3a"
             ],
             [
              0.8888888888888888,
              "#fdca26"
             ],
             [
              1,
              "#f0f921"
             ]
            ],
            "type": "heatmapgl"
           }
          ],
          "histogram": [
           {
            "marker": {
             "pattern": {
              "fillmode": "overlay",
              "size": 10,
              "solidity": 0.2
             }
            },
            "type": "histogram"
           }
          ],
          "histogram2d": [
           {
            "colorbar": {
             "outlinewidth": 0,
             "ticks": ""
            },
            "colorscale": [
             [
              0,
              "#0d0887"
             ],
             [
              0.1111111111111111,
              "#46039f"
             ],
             [
              0.2222222222222222,
              "#7201a8"
             ],
             [
              0.3333333333333333,
              "#9c179e"
             ],
             [
              0.4444444444444444,
              "#bd3786"
             ],
             [
              0.5555555555555556,
              "#d8576b"
             ],
             [
              0.6666666666666666,
              "#ed7953"
             ],
             [
              0.7777777777777778,
              "#fb9f3a"
             ],
             [
              0.8888888888888888,
              "#fdca26"
             ],
             [
              1,
              "#f0f921"
             ]
            ],
            "type": "histogram2d"
           }
          ],
          "histogram2dcontour": [
           {
            "colorbar": {
             "outlinewidth": 0,
             "ticks": ""
            },
            "colorscale": [
             [
              0,
              "#0d0887"
             ],
             [
              0.1111111111111111,
              "#46039f"
             ],
             [
              0.2222222222222222,
              "#7201a8"
             ],
             [
              0.3333333333333333,
              "#9c179e"
             ],
             [
              0.4444444444444444,
              "#bd3786"
             ],
             [
              0.5555555555555556,
              "#d8576b"
             ],
             [
              0.6666666666666666,
              "#ed7953"
             ],
             [
              0.7777777777777778,
              "#fb9f3a"
             ],
             [
              0.8888888888888888,
              "#fdca26"
             ],
             [
              1,
              "#f0f921"
             ]
            ],
            "type": "histogram2dcontour"
           }
          ],
          "mesh3d": [
           {
            "colorbar": {
             "outlinewidth": 0,
             "ticks": ""
            },
            "type": "mesh3d"
           }
          ],
          "parcoords": [
           {
            "line": {
             "colorbar": {
              "outlinewidth": 0,
              "ticks": ""
             }
            },
            "type": "parcoords"
           }
          ],
          "pie": [
           {
            "automargin": true,
            "type": "pie"
           }
          ],
          "scatter": [
           {
            "fillpattern": {
             "fillmode": "overlay",
             "size": 10,
             "solidity": 0.2
            },
            "type": "scatter"
           }
          ],
          "scatter3d": [
           {
            "line": {
             "colorbar": {
              "outlinewidth": 0,
              "ticks": ""
             }
            },
            "marker": {
             "colorbar": {
              "outlinewidth": 0,
              "ticks": ""
             }
            },
            "type": "scatter3d"
           }
          ],
          "scattercarpet": [
           {
            "marker": {
             "colorbar": {
              "outlinewidth": 0,
              "ticks": ""
             }
            },
            "type": "scattercarpet"
           }
          ],
          "scattergeo": [
           {
            "marker": {
             "colorbar": {
              "outlinewidth": 0,
              "ticks": ""
             }
            },
            "type": "scattergeo"
           }
          ],
          "scattergl": [
           {
            "marker": {
             "colorbar": {
              "outlinewidth": 0,
              "ticks": ""
             }
            },
            "type": "scattergl"
           }
          ],
          "scattermapbox": [
           {
            "marker": {
             "colorbar": {
              "outlinewidth": 0,
              "ticks": ""
             }
            },
            "type": "scattermapbox"
           }
          ],
          "scatterpolar": [
           {
            "marker": {
             "colorbar": {
              "outlinewidth": 0,
              "ticks": ""
             }
            },
            "type": "scatterpolar"
           }
          ],
          "scatterpolargl": [
           {
            "marker": {
             "colorbar": {
              "outlinewidth": 0,
              "ticks": ""
             }
            },
            "type": "scatterpolargl"
           }
          ],
          "scatterternary": [
           {
            "marker": {
             "colorbar": {
              "outlinewidth": 0,
              "ticks": ""
             }
            },
            "type": "scatterternary"
           }
          ],
          "surface": [
           {
            "colorbar": {
             "outlinewidth": 0,
             "ticks": ""
            },
            "colorscale": [
             [
              0,
              "#0d0887"
             ],
             [
              0.1111111111111111,
              "#46039f"
             ],
             [
              0.2222222222222222,
              "#7201a8"
             ],
             [
              0.3333333333333333,
              "#9c179e"
             ],
             [
              0.4444444444444444,
              "#bd3786"
             ],
             [
              0.5555555555555556,
              "#d8576b"
             ],
             [
              0.6666666666666666,
              "#ed7953"
             ],
             [
              0.7777777777777778,
              "#fb9f3a"
             ],
             [
              0.8888888888888888,
              "#fdca26"
             ],
             [
              1,
              "#f0f921"
             ]
            ],
            "type": "surface"
           }
          ],
          "table": [
           {
            "cells": {
             "fill": {
              "color": "#EBF0F8"
             },
             "line": {
              "color": "white"
             }
            },
            "header": {
             "fill": {
              "color": "#C8D4E3"
             },
             "line": {
              "color": "white"
             }
            },
            "type": "table"
           }
          ]
         },
         "layout": {
          "annotationdefaults": {
           "arrowcolor": "#2a3f5f",
           "arrowhead": 0,
           "arrowwidth": 1
          },
          "autotypenumbers": "strict",
          "coloraxis": {
           "colorbar": {
            "outlinewidth": 0,
            "ticks": ""
           }
          },
          "colorscale": {
           "diverging": [
            [
             0,
             "#8e0152"
            ],
            [
             0.1,
             "#c51b7d"
            ],
            [
             0.2,
             "#de77ae"
            ],
            [
             0.3,
             "#f1b6da"
            ],
            [
             0.4,
             "#fde0ef"
            ],
            [
             0.5,
             "#f7f7f7"
            ],
            [
             0.6,
             "#e6f5d0"
            ],
            [
             0.7,
             "#b8e186"
            ],
            [
             0.8,
             "#7fbc41"
            ],
            [
             0.9,
             "#4d9221"
            ],
            [
             1,
             "#276419"
            ]
           ],
           "sequential": [
            [
             0,
             "#0d0887"
            ],
            [
             0.1111111111111111,
             "#46039f"
            ],
            [
             0.2222222222222222,
             "#7201a8"
            ],
            [
             0.3333333333333333,
             "#9c179e"
            ],
            [
             0.4444444444444444,
             "#bd3786"
            ],
            [
             0.5555555555555556,
             "#d8576b"
            ],
            [
             0.6666666666666666,
             "#ed7953"
            ],
            [
             0.7777777777777778,
             "#fb9f3a"
            ],
            [
             0.8888888888888888,
             "#fdca26"
            ],
            [
             1,
             "#f0f921"
            ]
           ],
           "sequentialminus": [
            [
             0,
             "#0d0887"
            ],
            [
             0.1111111111111111,
             "#46039f"
            ],
            [
             0.2222222222222222,
             "#7201a8"
            ],
            [
             0.3333333333333333,
             "#9c179e"
            ],
            [
             0.4444444444444444,
             "#bd3786"
            ],
            [
             0.5555555555555556,
             "#d8576b"
            ],
            [
             0.6666666666666666,
             "#ed7953"
            ],
            [
             0.7777777777777778,
             "#fb9f3a"
            ],
            [
             0.8888888888888888,
             "#fdca26"
            ],
            [
             1,
             "#f0f921"
            ]
           ]
          },
          "colorway": [
           "#636efa",
           "#EF553B",
           "#00cc96",
           "#ab63fa",
           "#FFA15A",
           "#19d3f3",
           "#FF6692",
           "#B6E880",
           "#FF97FF",
           "#FECB52"
          ],
          "font": {
           "color": "#2a3f5f"
          },
          "geo": {
           "bgcolor": "white",
           "lakecolor": "white",
           "landcolor": "#E5ECF6",
           "showlakes": true,
           "showland": true,
           "subunitcolor": "white"
          },
          "hoverlabel": {
           "align": "left"
          },
          "hovermode": "closest",
          "mapbox": {
           "style": "light"
          },
          "paper_bgcolor": "white",
          "plot_bgcolor": "#E5ECF6",
          "polar": {
           "angularaxis": {
            "gridcolor": "white",
            "linecolor": "white",
            "ticks": ""
           },
           "bgcolor": "#E5ECF6",
           "radialaxis": {
            "gridcolor": "white",
            "linecolor": "white",
            "ticks": ""
           }
          },
          "scene": {
           "xaxis": {
            "backgroundcolor": "#E5ECF6",
            "gridcolor": "white",
            "gridwidth": 2,
            "linecolor": "white",
            "showbackground": true,
            "ticks": "",
            "zerolinecolor": "white"
           },
           "yaxis": {
            "backgroundcolor": "#E5ECF6",
            "gridcolor": "white",
            "gridwidth": 2,
            "linecolor": "white",
            "showbackground": true,
            "ticks": "",
            "zerolinecolor": "white"
           },
           "zaxis": {
            "backgroundcolor": "#E5ECF6",
            "gridcolor": "white",
            "gridwidth": 2,
            "linecolor": "white",
            "showbackground": true,
            "ticks": "",
            "zerolinecolor": "white"
           }
          },
          "shapedefaults": {
           "line": {
            "color": "#2a3f5f"
           }
          },
          "ternary": {
           "aaxis": {
            "gridcolor": "white",
            "linecolor": "white",
            "ticks": ""
           },
           "baxis": {
            "gridcolor": "white",
            "linecolor": "white",
            "ticks": ""
           },
           "bgcolor": "#E5ECF6",
           "caxis": {
            "gridcolor": "white",
            "linecolor": "white",
            "ticks": ""
           }
          },
          "title": {
           "x": 0.05
          },
          "xaxis": {
           "automargin": true,
           "gridcolor": "white",
           "linecolor": "white",
           "ticks": "",
           "title": {
            "standoff": 15
           },
           "zerolinecolor": "white",
           "zerolinewidth": 2
          },
          "yaxis": {
           "automargin": true,
           "gridcolor": "white",
           "linecolor": "white",
           "ticks": "",
           "title": {
            "standoff": 15
           },
           "zerolinecolor": "white",
           "zerolinewidth": 2
          }
         }
        },
        "title": {
         "font": {
          "color": "#484848"
         },
         "text": "Raw Dataset (Imbalanced)"
        },
        "width": 600,
        "xaxis": {
         "gridcolor": "#E1E5ED",
         "showgrid": true,
         "tickfont": {
          "color": "#505050"
         },
         "title": {
          "font": {
           "color": "#505050"
          },
          "text": "Label"
         },
         "zerolinecolor": "#E1E5ED"
        },
        "yaxis": {
         "gridcolor": "#E1E5ED",
         "showgrid": true,
         "tickfont": {
          "color": "#505050"
         },
         "title": {
          "font": {
           "color": "#505050"
          },
          "text": "No of Datasets"
         },
         "zerolinecolor": "#E1E5ED"
        }
       }
      },
      "text/html": [
       "<div>                            <div id=\"aaad2be3-d40b-4b0f-9e34-baec2504c102\" class=\"plotly-graph-div\" style=\"height:450px; width:600px;\"></div>            <script type=\"text/javascript\">                require([\"plotly\"], function(Plotly) {                    window.PLOTLYENV=window.PLOTLYENV || {};\n",
       "                    window.PLOTLYENV.BASE_URL='https://plot.ly';                                    if (document.getElementById(\"aaad2be3-d40b-4b0f-9e34-baec2504c102\")) {                    Plotly.newPlot(                        \"aaad2be3-d40b-4b0f-9e34-baec2504c102\",                        [{\"marker\":{\"color\":\"rgba(55, 128, 191, 0.6)\",\"line\":{\"color\":\"rgba(55, 128, 191, 1.0)\",\"width\":1}},\"name\":\"State\",\"orientation\":\"v\",\"text\":\"\",\"x\":[\"Bening\",\"Botnet\"],\"y\":[188955,1956],\"type\":\"bar\"}],                        {\"bargap\":0.2,\"height\":450,\"legend\":{\"bgcolor\":\"#F2F3F7\",\"font\":{\"color\":\"#505050\"}},\"paper_bgcolor\":\"#F2F3F7\",\"plot_bgcolor\":\"#F2F3F7\",\"template\":{\"data\":{\"barpolar\":[{\"marker\":{\"line\":{\"color\":\"#E5ECF6\",\"width\":0.5},\"pattern\":{\"fillmode\":\"overlay\",\"size\":10,\"solidity\":0.2}},\"type\":\"barpolar\"}],\"bar\":[{\"error_x\":{\"color\":\"#2a3f5f\"},\"error_y\":{\"color\":\"#2a3f5f\"},\"marker\":{\"line\":{\"color\":\"#E5ECF6\",\"width\":0.5},\"pattern\":{\"fillmode\":\"overlay\",\"size\":10,\"solidity\":0.2}},\"type\":\"bar\"}],\"carpet\":[{\"aaxis\":{\"endlinecolor\":\"#2a3f5f\",\"gridcolor\":\"white\",\"linecolor\":\"white\",\"minorgridcolor\":\"white\",\"startlinecolor\":\"#2a3f5f\"},\"baxis\":{\"endlinecolor\":\"#2a3f5f\",\"gridcolor\":\"white\",\"linecolor\":\"white\",\"minorgridcolor\":\"white\",\"startlinecolor\":\"#2a3f5f\"},\"type\":\"carpet\"}],\"choropleth\":[{\"colorbar\":{\"outlinewidth\":0,\"ticks\":\"\"},\"type\":\"choropleth\"}],\"contourcarpet\":[{\"colorbar\":{\"outlinewidth\":0,\"ticks\":\"\"},\"type\":\"contourcarpet\"}],\"contour\":[{\"colorbar\":{\"outlinewidth\":0,\"ticks\":\"\"},\"colorscale\":[[0.0,\"#0d0887\"],[0.1111111111111111,\"#46039f\"],[0.2222222222222222,\"#7201a8\"],[0.3333333333333333,\"#9c179e\"],[0.4444444444444444,\"#bd3786\"],[0.5555555555555556,\"#d8576b\"],[0.6666666666666666,\"#ed7953\"],[0.7777777777777778,\"#fb9f3a\"],[0.8888888888888888,\"#fdca26\"],[1.0,\"#f0f921\"]],\"type\":\"contour\"}],\"heatmapgl\":[{\"colorbar\":{\"outlinewidth\":0,\"ticks\":\"\"},\"colorscale\":[[0.0,\"#0d0887\"],[0.1111111111111111,\"#46039f\"],[0.2222222222222222,\"#7201a8\"],[0.3333333333333333,\"#9c179e\"],[0.4444444444444444,\"#bd3786\"],[0.5555555555555556,\"#d8576b\"],[0.6666666666666666,\"#ed7953\"],[0.7777777777777778,\"#fb9f3a\"],[0.8888888888888888,\"#fdca26\"],[1.0,\"#f0f921\"]],\"type\":\"heatmapgl\"}],\"heatmap\":[{\"colorbar\":{\"outlinewidth\":0,\"ticks\":\"\"},\"colorscale\":[[0.0,\"#0d0887\"],[0.1111111111111111,\"#46039f\"],[0.2222222222222222,\"#7201a8\"],[0.3333333333333333,\"#9c179e\"],[0.4444444444444444,\"#bd3786\"],[0.5555555555555556,\"#d8576b\"],[0.6666666666666666,\"#ed7953\"],[0.7777777777777778,\"#fb9f3a\"],[0.8888888888888888,\"#fdca26\"],[1.0,\"#f0f921\"]],\"type\":\"heatmap\"}],\"histogram2dcontour\":[{\"colorbar\":{\"outlinewidth\":0,\"ticks\":\"\"},\"colorscale\":[[0.0,\"#0d0887\"],[0.1111111111111111,\"#46039f\"],[0.2222222222222222,\"#7201a8\"],[0.3333333333333333,\"#9c179e\"],[0.4444444444444444,\"#bd3786\"],[0.5555555555555556,\"#d8576b\"],[0.6666666666666666,\"#ed7953\"],[0.7777777777777778,\"#fb9f3a\"],[0.8888888888888888,\"#fdca26\"],[1.0,\"#f0f921\"]],\"type\":\"histogram2dcontour\"}],\"histogram2d\":[{\"colorbar\":{\"outlinewidth\":0,\"ticks\":\"\"},\"colorscale\":[[0.0,\"#0d0887\"],[0.1111111111111111,\"#46039f\"],[0.2222222222222222,\"#7201a8\"],[0.3333333333333333,\"#9c179e\"],[0.4444444444444444,\"#bd3786\"],[0.5555555555555556,\"#d8576b\"],[0.6666666666666666,\"#ed7953\"],[0.7777777777777778,\"#fb9f3a\"],[0.8888888888888888,\"#fdca26\"],[1.0,\"#f0f921\"]],\"type\":\"histogram2d\"}],\"histogram\":[{\"marker\":{\"pattern\":{\"fillmode\":\"overlay\",\"size\":10,\"solidity\":0.2}},\"type\":\"histogram\"}],\"mesh3d\":[{\"colorbar\":{\"outlinewidth\":0,\"ticks\":\"\"},\"type\":\"mesh3d\"}],\"parcoords\":[{\"line\":{\"colorbar\":{\"outlinewidth\":0,\"ticks\":\"\"}},\"type\":\"parcoords\"}],\"pie\":[{\"automargin\":true,\"type\":\"pie\"}],\"scatter3d\":[{\"line\":{\"colorbar\":{\"outlinewidth\":0,\"ticks\":\"\"}},\"marker\":{\"colorbar\":{\"outlinewidth\":0,\"ticks\":\"\"}},\"type\":\"scatter3d\"}],\"scattercarpet\":[{\"marker\":{\"colorbar\":{\"outlinewidth\":0,\"ticks\":\"\"}},\"type\":\"scattercarpet\"}],\"scattergeo\":[{\"marker\":{\"colorbar\":{\"outlinewidth\":0,\"ticks\":\"\"}},\"type\":\"scattergeo\"}],\"scattergl\":[{\"marker\":{\"colorbar\":{\"outlinewidth\":0,\"ticks\":\"\"}},\"type\":\"scattergl\"}],\"scattermapbox\":[{\"marker\":{\"colorbar\":{\"outlinewidth\":0,\"ticks\":\"\"}},\"type\":\"scattermapbox\"}],\"scatterpolargl\":[{\"marker\":{\"colorbar\":{\"outlinewidth\":0,\"ticks\":\"\"}},\"type\":\"scatterpolargl\"}],\"scatterpolar\":[{\"marker\":{\"colorbar\":{\"outlinewidth\":0,\"ticks\":\"\"}},\"type\":\"scatterpolar\"}],\"scatter\":[{\"fillpattern\":{\"fillmode\":\"overlay\",\"size\":10,\"solidity\":0.2},\"type\":\"scatter\"}],\"scatterternary\":[{\"marker\":{\"colorbar\":{\"outlinewidth\":0,\"ticks\":\"\"}},\"type\":\"scatterternary\"}],\"surface\":[{\"colorbar\":{\"outlinewidth\":0,\"ticks\":\"\"},\"colorscale\":[[0.0,\"#0d0887\"],[0.1111111111111111,\"#46039f\"],[0.2222222222222222,\"#7201a8\"],[0.3333333333333333,\"#9c179e\"],[0.4444444444444444,\"#bd3786\"],[0.5555555555555556,\"#d8576b\"],[0.6666666666666666,\"#ed7953\"],[0.7777777777777778,\"#fb9f3a\"],[0.8888888888888888,\"#fdca26\"],[1.0,\"#f0f921\"]],\"type\":\"surface\"}],\"table\":[{\"cells\":{\"fill\":{\"color\":\"#EBF0F8\"},\"line\":{\"color\":\"white\"}},\"header\":{\"fill\":{\"color\":\"#C8D4E3\"},\"line\":{\"color\":\"white\"}},\"type\":\"table\"}]},\"layout\":{\"annotationdefaults\":{\"arrowcolor\":\"#2a3f5f\",\"arrowhead\":0,\"arrowwidth\":1},\"autotypenumbers\":\"strict\",\"coloraxis\":{\"colorbar\":{\"outlinewidth\":0,\"ticks\":\"\"}},\"colorscale\":{\"diverging\":[[0,\"#8e0152\"],[0.1,\"#c51b7d\"],[0.2,\"#de77ae\"],[0.3,\"#f1b6da\"],[0.4,\"#fde0ef\"],[0.5,\"#f7f7f7\"],[0.6,\"#e6f5d0\"],[0.7,\"#b8e186\"],[0.8,\"#7fbc41\"],[0.9,\"#4d9221\"],[1,\"#276419\"]],\"sequential\":[[0.0,\"#0d0887\"],[0.1111111111111111,\"#46039f\"],[0.2222222222222222,\"#7201a8\"],[0.3333333333333333,\"#9c179e\"],[0.4444444444444444,\"#bd3786\"],[0.5555555555555556,\"#d8576b\"],[0.6666666666666666,\"#ed7953\"],[0.7777777777777778,\"#fb9f3a\"],[0.8888888888888888,\"#fdca26\"],[1.0,\"#f0f921\"]],\"sequentialminus\":[[0.0,\"#0d0887\"],[0.1111111111111111,\"#46039f\"],[0.2222222222222222,\"#7201a8\"],[0.3333333333333333,\"#9c179e\"],[0.4444444444444444,\"#bd3786\"],[0.5555555555555556,\"#d8576b\"],[0.6666666666666666,\"#ed7953\"],[0.7777777777777778,\"#fb9f3a\"],[0.8888888888888888,\"#fdca26\"],[1.0,\"#f0f921\"]]},\"colorway\":[\"#636efa\",\"#EF553B\",\"#00cc96\",\"#ab63fa\",\"#FFA15A\",\"#19d3f3\",\"#FF6692\",\"#B6E880\",\"#FF97FF\",\"#FECB52\"],\"font\":{\"color\":\"#2a3f5f\"},\"geo\":{\"bgcolor\":\"white\",\"lakecolor\":\"white\",\"landcolor\":\"#E5ECF6\",\"showlakes\":true,\"showland\":true,\"subunitcolor\":\"white\"},\"hoverlabel\":{\"align\":\"left\"},\"hovermode\":\"closest\",\"mapbox\":{\"style\":\"light\"},\"paper_bgcolor\":\"white\",\"plot_bgcolor\":\"#E5ECF6\",\"polar\":{\"angularaxis\":{\"gridcolor\":\"white\",\"linecolor\":\"white\",\"ticks\":\"\"},\"bgcolor\":\"#E5ECF6\",\"radialaxis\":{\"gridcolor\":\"white\",\"linecolor\":\"white\",\"ticks\":\"\"}},\"scene\":{\"xaxis\":{\"backgroundcolor\":\"#E5ECF6\",\"gridcolor\":\"white\",\"gridwidth\":2,\"linecolor\":\"white\",\"showbackground\":true,\"ticks\":\"\",\"zerolinecolor\":\"white\"},\"yaxis\":{\"backgroundcolor\":\"#E5ECF6\",\"gridcolor\":\"white\",\"gridwidth\":2,\"linecolor\":\"white\",\"showbackground\":true,\"ticks\":\"\",\"zerolinecolor\":\"white\"},\"zaxis\":{\"backgroundcolor\":\"#E5ECF6\",\"gridcolor\":\"white\",\"gridwidth\":2,\"linecolor\":\"white\",\"showbackground\":true,\"ticks\":\"\",\"zerolinecolor\":\"white\"}},\"shapedefaults\":{\"line\":{\"color\":\"#2a3f5f\"}},\"ternary\":{\"aaxis\":{\"gridcolor\":\"white\",\"linecolor\":\"white\",\"ticks\":\"\"},\"baxis\":{\"gridcolor\":\"white\",\"linecolor\":\"white\",\"ticks\":\"\"},\"bgcolor\":\"#E5ECF6\",\"caxis\":{\"gridcolor\":\"white\",\"linecolor\":\"white\",\"ticks\":\"\"}},\"title\":{\"x\":0.05},\"xaxis\":{\"automargin\":true,\"gridcolor\":\"white\",\"linecolor\":\"white\",\"ticks\":\"\",\"title\":{\"standoff\":15},\"zerolinecolor\":\"white\",\"zerolinewidth\":2},\"yaxis\":{\"automargin\":true,\"gridcolor\":\"white\",\"linecolor\":\"white\",\"ticks\":\"\",\"title\":{\"standoff\":15},\"zerolinecolor\":\"white\",\"zerolinewidth\":2}}},\"title\":{\"font\":{\"color\":\"#484848\"},\"text\":\"Raw Dataset (Imbalanced)\"},\"width\":600,\"xaxis\":{\"gridcolor\":\"#E1E5ED\",\"showgrid\":true,\"tickfont\":{\"color\":\"#505050\"},\"title\":{\"font\":{\"color\":\"#505050\"},\"text\":\"Label\"},\"zerolinecolor\":\"#E1E5ED\"},\"yaxis\":{\"gridcolor\":\"#E1E5ED\",\"showgrid\":true,\"tickfont\":{\"color\":\"#505050\"},\"title\":{\"font\":{\"color\":\"#505050\"},\"text\":\"No of Datasets\"},\"zerolinecolor\":\"#E1E5ED\"}},                        {\"showLink\": true, \"linkText\": \"Export to plot.ly\", \"plotlyServerURL\": \"https://plot.ly\", \"responsive\": true}                    ).then(function(){\n",
       "                            \n",
       "var gd = document.getElementById('aaad2be3-d40b-4b0f-9e34-baec2504c102');\n",
       "var x = new MutationObserver(function (mutations, observer) {{\n",
       "        var display = window.getComputedStyle(gd).display;\n",
       "        if (!display || display === 'none') {{\n",
       "            console.log([gd, 'removed!']);\n",
       "            Plotly.purge(gd);\n",
       "            observer.disconnect();\n",
       "        }}\n",
       "}});\n",
       "\n",
       "// Listen for the removal of the full notebook cells\n",
       "var notebookContainer = gd.closest('#notebook-container');\n",
       "if (notebookContainer) {{\n",
       "    x.observe(notebookContainer, {childList: true});\n",
       "}}\n",
       "\n",
       "// Listen for the clearing of the current output cell\n",
       "var outputEl = gd.closest('.output');\n",
       "if (outputEl) {{\n",
       "    x.observe(outputEl, {childList: true});\n",
       "}}\n",
       "\n",
       "                        })                };                });            </script>        </div>"
      ]
     },
     "metadata": {},
     "output_type": "display_data"
    },
    {
     "name": "stdout",
     "output_type": "stream",
     "text": [
      "Ration of Bot to benign: 98.98 %\n"
     ]
    }
   ],
   "source": [
    "labels = ['Bening', 'Botnet']\n",
    "count_bot=y_[y_.Label==1]\n",
    "count_benign=y_[y_.Label==0]\n",
    "counts = [count_benign.shape[0],count_bot.shape[0]]\n",
    "state={'Labels':labels,'State':counts}\n",
    "show_datasts=pd.DataFrame.from_dict(state)\n",
    "cfs.set_config_file(sharing='Public',theme='polar',offline=True)\n",
    "benign_bot_status=show_datasts.set_index('Labels')\n",
    "benign_bot_status.iplot(kind='bar',color=['blue','red'],xTitle=\"Label\",yTitle=\"No of Datasets\",dimensions=(600,450),\n",
    "                        title='Raw Dataset (Imbalanced)',bargap=0.2,sortbars=True)\n",
    "balance_check=(count_benign.shape[0]/(count_benign.shape[0]+count_bot.shape[0]))*100\n",
    "print('Ration of Bot to benign: %.2f'%balance_check,'%')"
   ]
  },
  {
   "cell_type": "code",
   "execution_count": 4,
   "metadata": {},
   "outputs": [],
   "source": [
    "x_y_join=pd.concat([x_,y_],join = 'outer', axis = 1)\n",
    "x_y_join.drop_duplicates(inplace=True)"
   ]
  },
  {
   "cell_type": "code",
   "execution_count": 5,
   "metadata": {},
   "outputs": [
    {
     "data": {
      "image/png": "[encoded data removed]",
      "text/plain": [
       "<Figure size 432x288 with 1 Axes>"
      ]
     },
     "metadata": {
      "needs_background": "light"
     },
     "output_type": "display_data"
    }
   ],
   "source": [
    "# check data Normality\n",
    "xx=x_y_join.drop('Label', axis=1)\n",
    "normality_check=sts.probplot(x_y_join['Label'],dist=\"norm\",plot=plt)\n",
    "plt.show()"
   ]
  },
  {
   "cell_type": "code",
   "execution_count": 6,
   "metadata": {},
   "outputs": [
    {
     "name": "stdout",
     "output_type": "stream",
     "text": [
      "Train Data (140817, 77) (140817,)\n",
      "Validation Data (17618, 77) (17618,)\n",
      "Test (17603, 77) (17603,)\n"
     ]
    }
   ],
   "source": [
    "#### function to load and split data into Training, validation and Testing\n",
    "def load_dataset(filename):\n",
    "    xx=filename.drop('Label',axis=1)\n",
    "    yy=filename['Label']\n",
    "    return xx,yy\n",
    "xx,yy=load_dataset(x_y_join)\n",
    "# x_randomed=x.iloc[permutation(x.index)]\n",
    "# y_random=y.iloc[permutation(y.index)]\n",
    "# y_random.index=x_randomed.index\n",
    "xb_train,xb_test,yb_train,yb_test=train_test_split(xx,yy,test_size=0.09999,random_state=42)\n",
    "xbb_train,xbb_val,ybb_train,ybb_val=train_test_split(xb_train,yb_train,test_size=0.1112,random_state=1)\n",
    "print(\"Train Data\",xbb_train.shape, ybb_train.shape)\n",
    "print(\"Validation Data\",xbb_val.shape, ybb_val.shape)\n",
    "print(\"Test\", xb_test.shape, yb_test.shape)"
   ]
  },
  {
   "cell_type": "code",
   "execution_count": 11,
   "metadata": {},
   "outputs": [
    {
     "name": "stdout",
     "output_type": "stream",
     "text": [
      "Estimator :  DecisionTreeClassifier()\n",
      "Selecting features with genetic algorithm.\n",
      "gen\tnevals\tavg                               \tstd                               \tmin                            \tmax                               \n",
      "0  \t20    \t[  0.998441  40.6        0.00013 ]\t[  0.001828  24.175194   0.000052]\t[ 0.991833  3.        0.000052]\t[  0.999546  75.         0.000231]\n",
      "1  \t14    \t[  0.999413  60.85       0.000102]\t[  0.000182  10.706423   0.000027]\t[  0.998786  36.         0.000061]\t[  0.999546  75.         0.00017 ]\n",
      "2  \t12    \t[  0.999519  53.9        0.000096]\t[ 0.000027  6.533758  0.000018]   \t[  0.999446  39.         0.000061]\t[  0.999546  75.         0.00014 ]\n",
      "3  \t9     \t[  0.999513  51.7        0.0001  ]\t[ 0.000088  2.325941  0.000031]   \t[  0.999148  45.         0.000066]\t[  0.999574  58.         0.000224]\n",
      "4  \t9     \t[  0.999541  52.3        0.000098]\t[ 0.000042  2.91719   0.000029]   \t[  0.999403  47.         0.000066]\t[  0.999595  58.         0.000173]\n",
      "5  \t8     \t[  0.999503  50.35       0.000093]\t[ 0.00018   5.169865  0.000018]   \t[  0.998835  40.         0.000066]\t[  0.999609  58.         0.000142]\n",
      "Number of Feats: 50, Fitness scores : 1.0 \n",
      "Time taken: 360.6321415901184 seconds\n",
      "X_Training Value:  (140817, 50)\n",
      "Y_training set:  (140817,)\n"
     ]
    }
   ],
   "source": [
    "# feature selection\n",
    "# estimators = linear_model.LinearRegression()\n",
    "estimators = DecisionTreeClassifier()\n",
    "#estimators = RandomForestRegressor()\n",
    "#estimators = MLPRegressor()\n",
    "t1=time.time()\n",
    "report = pd.DataFrame()\n",
    "nofeats = [] \n",
    "chosen_feats = [] \n",
    "cvscore = [] \n",
    "# feature selection\n",
    "def select_features(xbb_train, ybb_train,xb_test,xbb_val):\n",
    "#     selectedb_f.fit_transform(xbb_train,ybb_train)\n",
    "    print(\"Estimator : \", estimators )\n",
    "    for i in range(1,xbb_train.shape[1]):  \n",
    "        selector = GeneticSelectionCV(estimators,cv = 5,verbose = 1,scoring=\"accuracy\", max_features = i,n_population = 20,\n",
    "                                      crossover_proba = 0.5,mutation_proba = 0.2,n_generations = 5,\n",
    "                                      crossover_independent_proba=0.5,mutation_independent_proba=0.2,tournament_size = 5,\n",
    "                                      n_gen_no_change=5,caching=True,n_jobs=-1)\n",
    "    selector = selector.fit(xbb_train,ybb_train)\n",
    "    genfeats = xbb_train.columns[selector.support_]\n",
    "    genfeats = list(genfeats)\n",
    "    print(\"Number of Feats: {}, Fitness scores : {} \" .format(selector.n_features_, round(selector.generation_scores_[-1], 3)))\n",
    "    cv_score = selector.generation_scores_[-1]\n",
    "    nofeats.append(len(genfeats)) \n",
    "    chosen_feats.append(genfeats) \n",
    "    cvscore.append(cv_score)\n",
    "    report[\"No of Feats\"] = nofeats\n",
    "    report[\"Chosen Feats\"] = chosen_feats\n",
    "    report[\"Scores\"] = cvscore\n",
    "   #GA feature selection Time \n",
    "    t2=time.time()\n",
    "    t_polyfit = float(t2-t1)\n",
    "    print(\"Time taken: {} seconds\".format(t_polyfit))\n",
    "    xbb_trainsele_fs2=selector.transform(xbb_train)\n",
    "    xbb_testsele_fs2=selector.transform(xb_test)\n",
    "    xbb_valsele_fs2=selector.transform(xbb_val)\n",
    "    return xbb_trainsele_fs2,xbb_testsele_fs2,xbb_valsele_fs2,selector\n",
    "# split dataset into training,testing and validation\n",
    "xbb_trainsele_fs1,xbb_testsele_fs1,xbb_valsele_fs1,selector=select_features(xbb_train,ybb_train,xb_test,xbb_val)\n",
    "print('X_Training Value: ',xbb_trainsele_fs1.shape)\n",
    "print('Y_training set: ',ybb_train.shape)\n",
    "norm_MINMAX=MinMaxScaler(feature_range=(0,1))\n",
    "norm_MINMAX.fit(xbb_trainsele_fs1)\n",
    "xbb_trainsele_fs=norm_MINMAX.transform(xbb_trainsele_fs1)\n",
    "xbb_valsele_fs=norm_MINMAX.transform(xbb_valsele_fs1)\n",
    "xbb_testsele_fs=norm_MINMAX.transform(xbb_testsele_fs1)\n",
    "# Measuring all the features\n",
    "# for i in range(len(selected_f.scores_)):\n",
    "#     print('feature: %d, Score: %f'% (i,selected_f.scores_[i]))\n",
    "#     plt.bar([i for i in range(len(selected_f.scores_))],selected_f.scores_)\n",
    "#     plt.show"
   ]
  },
  {
   "cell_type": "code",
   "execution_count": 12,
   "metadata": {},
   "outputs": [
    {
     "name": "stderr",
     "output_type": "stream",
     "text": [
      "<ipython-input-12-2ecfabd06eb8>:11: DeprecationWarning:\n",
      "\n",
      "KerasClassifier is deprecated, use Sci-Keras (https://github.com/adriangb/scikeras) instead. See https://www.adriangb.com/scikeras/stable/migration.html for help migrating.\n",
      "\n"
     ]
    }
   ],
   "source": [
    "def Bbalance_NN_model():\n",
    "    db_model=Sequential()\n",
    "    db_model.add(Dense(8,input_shape=(xbb_trainsele_fs.shape[1],),activation='relu'))\n",
    "    db_model.add(Dense(20,activation='relu'))\n",
    "    db_model.add(Dense(20,activation='relu'))\n",
    "    db_model.add(Dense(20,activation='relu'))\n",
    "    db_model.add(Dense(1,activation='sigmoid'))\n",
    "    optimizer1=optimizers.RMSprop(learning_rate=0.0001)\n",
    "    db_model.compile(optimizer=optimizer1,loss=\"binary_crossentropy\",metrics=[\"accuracy\"])\n",
    "    return db_model\n",
    "db_model=KerasClassifier(build_fn=Bbalance_NN_model)"
   ]
  },
  {
   "cell_type": "code",
   "execution_count": 13,
   "metadata": {
    "scrolled": true
   },
   "outputs": [
    {
     "name": "stdout",
     "output_type": "stream",
     "text": [
      "Epoch 1/100\n",
      "564/564 [==============================] - 3s 3ms/step - loss: 0.5230 - accuracy: 0.9839 - val_loss: 0.3122 - val_accuracy: 0.9926\n",
      "Epoch 2/100\n",
      "564/564 [==============================] - 1s 3ms/step - loss: 0.1377 - accuracy: 0.9917 - val_loss: 0.0395 - val_accuracy: 0.9926\n",
      "Epoch 3/100\n",
      "564/564 [==============================] - 1s 2ms/step - loss: 0.0393 - accuracy: 0.9917 - val_loss: 0.0326 - val_accuracy: 0.9926\n",
      "Epoch 4/100\n",
      "564/564 [==============================] - 1s 2ms/step - loss: 0.0348 - accuracy: 0.9917 - val_loss: 0.0285 - val_accuracy: 0.9926\n",
      "Epoch 5/100\n",
      "564/564 [==============================] - 1s 2ms/step - loss: 0.0308 - accuracy: 0.9917 - val_loss: 0.0247 - val_accuracy: 0.9926\n",
      "Epoch 6/100\n",
      "564/564 [==============================] - 1s 3ms/step - loss: 0.0276 - accuracy: 0.9917 - val_loss: 0.0220 - val_accuracy: 0.9926\n",
      "Epoch 7/100\n",
      "564/564 [==============================] - 1s 2ms/step - loss: 0.0251 - accuracy: 0.9917 - val_loss: 0.0198 - val_accuracy: 0.9926\n",
      "Epoch 8/100\n",
      "564/564 [==============================] - 2s 3ms/step - loss: 0.0231 - accuracy: 0.9917 - val_loss: 0.0181 - val_accuracy: 0.9926\n",
      "Epoch 9/100\n",
      "564/564 [==============================] - 1s 3ms/step - loss: 0.0213 - accuracy: 0.9917 - val_loss: 0.0167 - val_accuracy: 0.9926\n",
      "Epoch 10/100\n",
      "564/564 [==============================] - 1s 3ms/step - loss: 0.0199 - accuracy: 0.9927 - val_loss: 0.0155 - val_accuracy: 0.9953\n",
      "Epoch 11/100\n",
      "564/564 [==============================] - 2s 3ms/step - loss: 0.0187 - accuracy: 0.9951 - val_loss: 0.0145 - val_accuracy: 0.9980\n",
      "Epoch 12/100\n",
      "564/564 [==============================] - 2s 3ms/step - loss: 0.0176 - accuracy: 0.9971 - val_loss: 0.0137 - val_accuracy: 0.9977\n",
      "Epoch 13/100\n",
      "564/564 [==============================] - 2s 3ms/step - loss: 0.0168 - accuracy: 0.9971 - val_loss: 0.0131 - val_accuracy: 0.9977\n",
      "Epoch 14/100\n",
      "564/564 [==============================] - 2s 3ms/step - loss: 0.0162 - accuracy: 0.9970 - val_loss: 0.0126 - val_accuracy: 0.9977\n",
      "Epoch 15/100\n",
      "564/564 [==============================] - 2s 3ms/step - loss: 0.0157 - accuracy: 0.9970 - val_loss: 0.0122 - val_accuracy: 0.9977\n",
      "Epoch 16/100\n",
      "564/564 [==============================] - 2s 3ms/step - loss: 0.0154 - accuracy: 0.9970 - val_loss: 0.0120 - val_accuracy: 0.9977\n",
      "Epoch 17/100\n",
      "564/564 [==============================] - 2s 3ms/step - loss: 0.0150 - accuracy: 0.9970 - val_loss: 0.0117 - val_accuracy: 0.9977\n",
      "Epoch 18/100\n",
      "564/564 [==============================] - 2s 3ms/step - loss: 0.0147 - accuracy: 0.9970 - val_loss: 0.0115 - val_accuracy: 0.9976\n",
      "Epoch 19/100\n",
      "564/564 [==============================] - 2s 3ms/step - loss: 0.0145 - accuracy: 0.9970 - val_loss: 0.0113 - val_accuracy: 0.9976\n",
      "Epoch 20/100\n",
      "564/564 [==============================] - 2s 3ms/step - loss: 0.0142 - accuracy: 0.9970 - val_loss: 0.0111 - val_accuracy: 0.9976\n",
      "Epoch 21/100\n",
      "564/564 [==============================] - 2s 3ms/step - loss: 0.0140 - accuracy: 0.9970 - val_loss: 0.0109 - val_accuracy: 0.9977\n",
      "Epoch 22/100\n",
      "564/564 [==============================] - 2s 3ms/step - loss: 0.0138 - accuracy: 0.9971 - val_loss: 0.0108 - val_accuracy: 0.9977\n",
      "Epoch 23/100\n",
      "564/564 [==============================] - 2s 3ms/step - loss: 0.0137 - accuracy: 0.9971 - val_loss: 0.0107 - val_accuracy: 0.9977\n",
      "Epoch 24/100\n",
      "564/564 [==============================] - 2s 3ms/step - loss: 0.0135 - accuracy: 0.9971 - val_loss: 0.0106 - val_accuracy: 0.9977\n",
      "Epoch 25/100\n",
      "564/564 [==============================] - 2s 3ms/step - loss: 0.0134 - accuracy: 0.9971 - val_loss: 0.0104 - val_accuracy: 0.9977\n",
      "Epoch 26/100\n",
      "564/564 [==============================] - 2s 3ms/step - loss: 0.0132 - accuracy: 0.9971 - val_loss: 0.0103 - val_accuracy: 0.9977\n",
      "Epoch 27/100\n",
      "564/564 [==============================] - 2s 3ms/step - loss: 0.0131 - accuracy: 0.9971 - val_loss: 0.0103 - val_accuracy: 0.9977\n",
      "Epoch 28/100\n",
      "564/564 [==============================] - 2s 3ms/step - loss: 0.0130 - accuracy: 0.9971 - val_loss: 0.0101 - val_accuracy: 0.9977\n",
      "Epoch 29/100\n",
      "564/564 [==============================] - 2s 4ms/step - loss: 0.0129 - accuracy: 0.9971 - val_loss: 0.0101 - val_accuracy: 0.9977\n",
      "Epoch 30/100\n",
      "564/564 [==============================] - 2s 3ms/step - loss: 0.0129 - accuracy: 0.9971 - val_loss: 0.0100 - val_accuracy: 0.9977\n",
      "Epoch 31/100\n",
      "564/564 [==============================] - 2s 3ms/step - loss: 0.0128 - accuracy: 0.9971 - val_loss: 0.0100 - val_accuracy: 0.9977\n",
      "Epoch 32/100\n",
      "564/564 [==============================] - 2s 3ms/step - loss: 0.0127 - accuracy: 0.9971 - val_loss: 0.0099 - val_accuracy: 0.9977\n",
      "Epoch 33/100\n",
      "564/564 [==============================] - 2s 3ms/step - loss: 0.0126 - accuracy: 0.9971 - val_loss: 0.0098 - val_accuracy: 0.9977\n",
      "Epoch 34/100\n",
      "564/564 [==============================] - 2s 3ms/step - loss: 0.0125 - accuracy: 0.9971 - val_loss: 0.0098 - val_accuracy: 0.9977\n",
      "Epoch 35/100\n",
      "564/564 [==============================] - 2s 3ms/step - loss: 0.0124 - accuracy: 0.9971 - val_loss: 0.0097 - val_accuracy: 0.9977\n",
      "Epoch 36/100\n",
      "564/564 [==============================] - 2s 3ms/step - loss: 0.0124 - accuracy: 0.9971 - val_loss: 0.0097 - val_accuracy: 0.9977\n",
      "Epoch 37/100\n",
      "564/564 [==============================] - 2s 3ms/step - loss: 0.0123 - accuracy: 0.9971 - val_loss: 0.0097 - val_accuracy: 0.9976\n",
      "Epoch 38/100\n",
      "564/564 [==============================] - 2s 3ms/step - loss: 0.0122 - accuracy: 0.9971 - val_loss: 0.0095 - val_accuracy: 0.9977\n",
      "Epoch 39/100\n",
      "564/564 [==============================] - 2s 3ms/step - loss: 0.0122 - accuracy: 0.9971 - val_loss: 0.0095 - val_accuracy: 0.9977\n",
      "Epoch 40/100\n",
      "564/564 [==============================] - 2s 3ms/step - loss: 0.0121 - accuracy: 0.9971 - val_loss: 0.0094 - val_accuracy: 0.9977\n",
      "Epoch 41/100\n",
      "564/564 [==============================] - 2s 3ms/step - loss: 0.0120 - accuracy: 0.9971 - val_loss: 0.0095 - val_accuracy: 0.9977\n",
      "Epoch 42/100\n",
      "564/564 [==============================] - 2s 3ms/step - loss: 0.0120 - accuracy: 0.9971 - val_loss: 0.0093 - val_accuracy: 0.9977\n",
      "Epoch 43/100\n",
      "564/564 [==============================] - 2s 3ms/step - loss: 0.0119 - accuracy: 0.9971 - val_loss: 0.0093 - val_accuracy: 0.9977\n",
      "Epoch 44/100\n",
      "564/564 [==============================] - 2s 3ms/step - loss: 0.0118 - accuracy: 0.9972 - val_loss: 0.0092 - val_accuracy: 0.9977\n",
      "Epoch 45/100\n",
      "564/564 [==============================] - 2s 3ms/step - loss: 0.0118 - accuracy: 0.9972 - val_loss: 0.0092 - val_accuracy: 0.9977\n",
      "Epoch 46/100\n",
      "564/564 [==============================] - 2s 3ms/step - loss: 0.0117 - accuracy: 0.9972 - val_loss: 0.0091 - val_accuracy: 0.9977\n",
      "Epoch 47/100\n",
      "564/564 [==============================] - 2s 3ms/step - loss: 0.0116 - accuracy: 0.9972 - val_loss: 0.0090 - val_accuracy: 0.9977\n",
      "Epoch 48/100\n",
      "564/564 [==============================] - 2s 3ms/step - loss: 0.0116 - accuracy: 0.9972 - val_loss: 0.0090 - val_accuracy: 0.9977\n",
      "Epoch 49/100\n",
      "564/564 [==============================] - 2s 3ms/step - loss: 0.0115 - accuracy: 0.9972 - val_loss: 0.0089 - val_accuracy: 0.9977\n",
      "Epoch 50/100\n",
      "564/564 [==============================] - 2s 3ms/step - loss: 0.0115 - accuracy: 0.9972 - val_loss: 0.0088 - val_accuracy: 0.9977\n",
      "Epoch 51/100\n",
      "564/564 [==============================] - 2s 3ms/step - loss: 0.0114 - accuracy: 0.9972 - val_loss: 0.0087 - val_accuracy: 0.9977\n",
      "Epoch 52/100\n",
      "564/564 [==============================] - 2s 3ms/step - loss: 0.0113 - accuracy: 0.9971 - val_loss: 0.0087 - val_accuracy: 0.9977\n",
      "Epoch 53/100\n",
      "564/564 [==============================] - 2s 3ms/step - loss: 0.0113 - accuracy: 0.9971 - val_loss: 0.0086 - val_accuracy: 0.9978\n",
      "Epoch 54/100\n",
      "564/564 [==============================] - 2s 3ms/step - loss: 0.0112 - accuracy: 0.9973 - val_loss: 0.0085 - val_accuracy: 0.9978\n",
      "Epoch 55/100\n",
      "564/564 [==============================] - 2s 3ms/step - loss: 0.0111 - accuracy: 0.9973 - val_loss: 0.0086 - val_accuracy: 0.9977\n",
      "Epoch 56/100\n",
      "564/564 [==============================] - 2s 3ms/step - loss: 0.0110 - accuracy: 0.9973 - val_loss: 0.0085 - val_accuracy: 0.9978\n",
      "Epoch 57/100\n",
      "564/564 [==============================] - 2s 3ms/step - loss: 0.0109 - accuracy: 0.9973 - val_loss: 0.0083 - val_accuracy: 0.9978\n"
     ]
    },
    {
     "name": "stdout",
     "output_type": "stream",
     "text": [
      "Epoch 58/100\n",
      "564/564 [==============================] - 1s 3ms/step - loss: 0.0109 - accuracy: 0.9973 - val_loss: 0.0082 - val_accuracy: 0.9978\n",
      "Epoch 59/100\n",
      "564/564 [==============================] - 2s 3ms/step - loss: 0.0108 - accuracy: 0.9973 - val_loss: 0.0081 - val_accuracy: 0.9978\n",
      "Epoch 60/100\n",
      "564/564 [==============================] - 2s 3ms/step - loss: 0.0107 - accuracy: 0.9974 - val_loss: 0.0080 - val_accuracy: 0.9978\n",
      "Epoch 61/100\n",
      "564/564 [==============================] - 2s 3ms/step - loss: 0.0106 - accuracy: 0.9974 - val_loss: 0.0079 - val_accuracy: 0.9981\n",
      "Epoch 62/100\n",
      "564/564 [==============================] - 1s 3ms/step - loss: 0.0105 - accuracy: 0.9974 - val_loss: 0.0078 - val_accuracy: 0.9981\n",
      "Epoch 63/100\n",
      "564/564 [==============================] - 2s 3ms/step - loss: 0.0104 - accuracy: 0.9975 - val_loss: 0.0077 - val_accuracy: 0.9981\n",
      "Epoch 64/100\n",
      "564/564 [==============================] - 2s 4ms/step - loss: 0.0104 - accuracy: 0.9978 - val_loss: 0.0077 - val_accuracy: 0.9986\n",
      "Epoch 65/100\n",
      "564/564 [==============================] - 2s 3ms/step - loss: 0.0103 - accuracy: 0.9979 - val_loss: 0.0075 - val_accuracy: 0.9986\n",
      "Epoch 66/100\n",
      "564/564 [==============================] - 2s 3ms/step - loss: 0.0102 - accuracy: 0.9979 - val_loss: 0.0076 - val_accuracy: 0.9985\n",
      "Epoch 67/100\n",
      "564/564 [==============================] - 2s 3ms/step - loss: 0.0101 - accuracy: 0.9979 - val_loss: 0.0074 - val_accuracy: 0.9986\n",
      "Epoch 68/100\n",
      "564/564 [==============================] - 2s 3ms/step - loss: 0.0101 - accuracy: 0.9980 - val_loss: 0.0073 - val_accuracy: 0.9985\n",
      "Epoch 69/100\n",
      "564/564 [==============================] - 2s 3ms/step - loss: 0.0100 - accuracy: 0.9979 - val_loss: 0.0073 - val_accuracy: 0.9986\n",
      "Epoch 70/100\n",
      "564/564 [==============================] - 2s 3ms/step - loss: 0.0100 - accuracy: 0.9980 - val_loss: 0.0073 - val_accuracy: 0.9986\n",
      "Epoch 71/100\n",
      "564/564 [==============================] - 2s 3ms/step - loss: 0.0099 - accuracy: 0.9980 - val_loss: 0.0072 - val_accuracy: 0.9986\n",
      "Epoch 72/100\n",
      "564/564 [==============================] - 2s 3ms/step - loss: 0.0099 - accuracy: 0.9979 - val_loss: 0.0072 - val_accuracy: 0.9986\n",
      "Epoch 73/100\n",
      "564/564 [==============================] - 2s 3ms/step - loss: 0.0099 - accuracy: 0.9980 - val_loss: 0.0071 - val_accuracy: 0.9987\n",
      "Epoch 74/100\n",
      "564/564 [==============================] - 2s 3ms/step - loss: 0.0098 - accuracy: 0.9980 - val_loss: 0.0071 - val_accuracy: 0.9986\n",
      "Epoch 75/100\n",
      "564/564 [==============================] - 2s 4ms/step - loss: 0.0098 - accuracy: 0.9980 - val_loss: 0.0071 - val_accuracy: 0.9986\n",
      "Epoch 76/100\n",
      "564/564 [==============================] - 2s 3ms/step - loss: 0.0098 - accuracy: 0.9980 - val_loss: 0.0070 - val_accuracy: 0.9986\n",
      "Epoch 77/100\n",
      "564/564 [==============================] - 2s 3ms/step - loss: 0.0098 - accuracy: 0.9980 - val_loss: 0.0070 - val_accuracy: 0.9987\n",
      "Epoch 78/100\n",
      "564/564 [==============================] - 2s 3ms/step - loss: 0.0098 - accuracy: 0.9980 - val_loss: 0.0070 - val_accuracy: 0.9987\n",
      "Epoch 79/100\n",
      "564/564 [==============================] - 2s 3ms/step - loss: 0.0097 - accuracy: 0.9980 - val_loss: 0.0072 - val_accuracy: 0.9986\n",
      "Epoch 80/100\n",
      "564/564 [==============================] - 1s 3ms/step - loss: 0.0097 - accuracy: 0.9980 - val_loss: 0.0069 - val_accuracy: 0.9987\n",
      "Epoch 81/100\n",
      "564/564 [==============================] - 1s 3ms/step - loss: 0.0097 - accuracy: 0.9980 - val_loss: 0.0069 - val_accuracy: 0.9987\n",
      "Epoch 82/100\n",
      "564/564 [==============================] - 1s 3ms/step - loss: 0.0097 - accuracy: 0.9980 - val_loss: 0.0069 - val_accuracy: 0.9987\n",
      "Epoch 83/100\n",
      "564/564 [==============================] - 1s 3ms/step - loss: 0.0097 - accuracy: 0.9980 - val_loss: 0.0070 - val_accuracy: 0.9986\n",
      "Epoch 84/100\n",
      "564/564 [==============================] - 1s 2ms/step - loss: 0.0096 - accuracy: 0.9980 - val_loss: 0.0069 - val_accuracy: 0.9988\n",
      "Epoch 85/100\n",
      "564/564 [==============================] - 1s 3ms/step - loss: 0.0096 - accuracy: 0.9980 - val_loss: 0.0069 - val_accuracy: 0.9986\n",
      "Epoch 86/100\n",
      "564/564 [==============================] - 1s 2ms/step - loss: 0.0096 - accuracy: 0.9980 - val_loss: 0.0069 - val_accuracy: 0.9986\n",
      "Epoch 87/100\n",
      "564/564 [==============================] - 2s 3ms/step - loss: 0.0096 - accuracy: 0.9981 - val_loss: 0.0069 - val_accuracy: 0.9986\n",
      "Epoch 88/100\n",
      "564/564 [==============================] - 2s 3ms/step - loss: 0.0096 - accuracy: 0.9981 - val_loss: 0.0068 - val_accuracy: 0.9987\n",
      "Epoch 89/100\n",
      "564/564 [==============================] - 2s 3ms/step - loss: 0.0096 - accuracy: 0.9981 - val_loss: 0.0069 - val_accuracy: 0.9986\n",
      "Epoch 90/100\n",
      "564/564 [==============================] - 2s 3ms/step - loss: 0.0095 - accuracy: 0.9981 - val_loss: 0.0069 - val_accuracy: 0.9986\n",
      "Epoch 91/100\n",
      "564/564 [==============================] - 1s 2ms/step - loss: 0.0096 - accuracy: 0.9981 - val_loss: 0.0068 - val_accuracy: 0.9987\n",
      "Epoch 92/100\n",
      "564/564 [==============================] - 1s 3ms/step - loss: 0.0095 - accuracy: 0.9981 - val_loss: 0.0068 - val_accuracy: 0.9987\n",
      "Epoch 93/100\n",
      "564/564 [==============================] - 1s 2ms/step - loss: 0.0095 - accuracy: 0.9980 - val_loss: 0.0068 - val_accuracy: 0.9987\n",
      "Epoch 94/100\n",
      "564/564 [==============================] - 1s 2ms/step - loss: 0.0095 - accuracy: 0.9981 - val_loss: 0.0067 - val_accuracy: 0.9987\n",
      "Epoch 95/100\n",
      "564/564 [==============================] - 1s 2ms/step - loss: 0.0094 - accuracy: 0.9981 - val_loss: 0.0068 - val_accuracy: 0.9988\n",
      "Epoch 96/100\n",
      "564/564 [==============================] - 1s 2ms/step - loss: 0.0095 - accuracy: 0.9981 - val_loss: 0.0068 - val_accuracy: 0.9987\n",
      "Epoch 97/100\n",
      "564/564 [==============================] - 1s 2ms/step - loss: 0.0094 - accuracy: 0.9981 - val_loss: 0.0067 - val_accuracy: 0.9987\n",
      "Epoch 98/100\n",
      "564/564 [==============================] - 1s 2ms/step - loss: 0.0094 - accuracy: 0.9981 - val_loss: 0.0067 - val_accuracy: 0.9988\n",
      "Epoch 99/100\n",
      "564/564 [==============================] - 1s 2ms/step - loss: 0.0094 - accuracy: 0.9981 - val_loss: 0.0068 - val_accuracy: 0.9988\n",
      "Epoch 100/100\n",
      "564/564 [==============================] - 1s 2ms/step - loss: 0.0094 - accuracy: 0.9981 - val_loss: 0.0066 - val_accuracy: 0.9988\n"
     ]
    },
    {
     "data": {
      "text/plain": [
       "<keras.callbacks.History at 0x2c797fa0>"
      ]
     },
     "execution_count": 13,
     "metadata": {},
     "output_type": "execute_result"
    }
   ],
   "source": [
    "# Train model\n",
    "Train_model_bbalance = db_model.fit(xbb_trainsele_fs, ybb_train, validation_data=\n",
    "                                             (xbb_valsele_fs, ybb_val),batch_size=250, epochs=100)\n",
    "Train_model_bbalance"
   ]
  },
  {
   "cell_type": "code",
   "execution_count": 14,
   "metadata": {},
   "outputs": [
    {
     "name": "stdout",
     "output_type": "stream",
     "text": [
      "551/551 [==============================] - 1s 1ms/step\n"
     ]
    },
    {
     "data": {
      "text/html": [
       "<div>\n",
       "<style scoped>\n",
       "    .dataframe tbody tr th:only-of-type {\n",
       "        vertical-align: middle;\n",
       "    }\n",
       "\n",
       "    .dataframe tbody tr th {\n",
       "        vertical-align: top;\n",
       "    }\n",
       "\n",
       "    .dataframe thead th {\n",
       "        text-align: right;\n",
       "    }\n",
       "</style>\n",
       "<table border=\"1\" class=\"dataframe\">\n",
       "  <thead>\n",
       "    <tr style=\"text-align: right;\">\n",
       "      <th></th>\n",
       "      <th>precision</th>\n",
       "      <th>recall</th>\n",
       "      <th>f1-score</th>\n",
       "      <th>support</th>\n",
       "    </tr>\n",
       "  </thead>\n",
       "  <tbody>\n",
       "    <tr>\n",
       "      <th>0</th>\n",
       "      <td>0.999027</td>\n",
       "      <td>0.999599</td>\n",
       "      <td>0.999313</td>\n",
       "      <td>17465.000000</td>\n",
       "    </tr>\n",
       "    <tr>\n",
       "      <th>1</th>\n",
       "      <td>0.945312</td>\n",
       "      <td>0.876812</td>\n",
       "      <td>0.909774</td>\n",
       "      <td>138.000000</td>\n",
       "    </tr>\n",
       "    <tr>\n",
       "      <th>accuracy</th>\n",
       "      <td>0.998637</td>\n",
       "      <td>0.998637</td>\n",
       "      <td>0.998637</td>\n",
       "      <td>0.998637</td>\n",
       "    </tr>\n",
       "    <tr>\n",
       "      <th>macro avg</th>\n",
       "      <td>0.972170</td>\n",
       "      <td>0.938205</td>\n",
       "      <td>0.954544</td>\n",
       "      <td>17603.000000</td>\n",
       "    </tr>\n",
       "    <tr>\n",
       "      <th>weighted avg</th>\n",
       "      <td>0.998606</td>\n",
       "      <td>0.998637</td>\n",
       "      <td>0.998611</td>\n",
       "      <td>17603.000000</td>\n",
       "    </tr>\n",
       "  </tbody>\n",
       "</table>\n",
       "</div>"
      ],
      "text/plain": [
       "              precision    recall  f1-score       support\n",
       "0              0.999027  0.999599  0.999313  17465.000000\n",
       "1              0.945312  0.876812  0.909774    138.000000\n",
       "accuracy       0.998637  0.998637  0.998637      0.998637\n",
       "macro avg      0.972170  0.938205  0.954544  17603.000000\n",
       "weighted avg   0.998606  0.998637  0.998611  17603.000000"
      ]
     },
     "execution_count": 14,
     "metadata": {},
     "output_type": "execute_result"
    }
   ],
   "source": [
    "DNN_Model_bbalance = db_model.predict(xbb_testsele_fs)\n",
    "DNNM_Analysis_bb = pd.DataFrame(classification_report(yb_test,DNN_Model_bbalance, output_dict=True)).transpose()\n",
    "DNNM_Analysis_bb"
   ]
  },
  {
   "cell_type": "code",
   "execution_count": 15,
   "metadata": {},
   "outputs": [
    {
     "name": "stdout",
     "output_type": "stream",
     "text": [
      "               Prediction Benign  Prediction Bot\n",
      "Actual Benign              17458               7\n",
      "Actual Bot                    17             121\n",
      "----------------------------------------------------------------------\n"
     ]
    }
   ],
   "source": [
    "Confusion_matxmlp=pd.DataFrame(confusion_matrix(yb_test,DNN_Model_bbalance),index=[\"Actual Benign\",\"Actual Bot\"],\n",
    "                               columns=(\"Prediction Benign\", \"Prediction Bot\"))\n",
    "print(Confusion_matxmlp)\n",
    "print('----------------------------------------------------------------------')"
   ]
  },
  {
   "cell_type": "code",
   "execution_count": 17,
   "metadata": {},
   "outputs": [
    {
     "name": "stdout",
     "output_type": "stream",
     "text": [
      "Accuracy of the Model= 99.86 \n",
      "----------------------------------------------------------------------\n",
      "----------------------------------------------------------------------\n"
     ]
    }
   ],
   "source": [
    "Acc_statemlp=accuracy_score(yb_test,DNN_Model_bbalance)\n",
    "print('Accuracy of the Model= %.2f '%(Acc_statemlp*100))\n",
    "print('----------------------------------------------------------------------')\n",
    "print('----------------------------------------------------------------------')"
   ]
  },
  {
   "cell_type": "markdown",
   "metadata": {},
   "source": [
    "## Balancing Class, Which is Bot to Benign Ratio "
   ]
  },
  {
   "cell_type": "code",
   "execution_count": 18,
   "metadata": {},
   "outputs": [
    {
     "name": "stdout",
     "output_type": "stream",
     "text": [
      "The data dimension after balanced (264537, 78)\n",
      "The data dimension after duplicate removed (228626, 78)\n",
      "Data Duplication checked and it verifies, Data duplication present:  False\n",
      "class 0: (174601, 78)\n",
      "class 1: (54025, 78)\n"
     ]
    }
   ],
   "source": [
    "oversample=SMOTE(random_state=42,sampling_strategy=0.4)\n",
    "Xx_,Yy_=oversample.fit_resample(x_,y_)\n",
    "data_balance=pd.concat([Xx_,Yy_],join = 'outer', axis = 1)\n",
    "print('The data dimension after balanced',data_balance.shape)\n",
    "data_balance.drop_duplicates(inplace=True)\n",
    "print('The data dimension after duplicate removed',data_balance.shape)\n",
    "dups=data_balance.duplicated()\n",
    "print('Data Duplication checked and it verifies, Data duplication present: ',dups.any())\n",
    "class_00=data_balance[data_balance['Label']==0]\n",
    "class_11=data_balance[data_balance['Label']==1]\n",
    "# print(\"total class of 1 and 0:\",test_over['Label'].value_counts())# plot the count after under-sampeling\n",
    "print('class 0:', class_00.shape)\n",
    "print('class 1:', class_11.shape)"
   ]
  },
  {
   "cell_type": "code",
   "execution_count": 19,
   "metadata": {},
   "outputs": [
    {
     "data": {
      "text/html": [
       "        <script type=\"text/javascript\">\n",
       "        window.PlotlyConfig = {MathJaxConfig: 'local'};\n",
       "        if (window.MathJax && window.MathJax.Hub && window.MathJax.Hub.Config) {window.MathJax.Hub.Config({SVG: {font: \"STIX-Web\"}});}\n",
       "        if (typeof require !== 'undefined') {\n",
       "        require.undef(\"plotly\");\n",
       "        requirejs.config({\n",
       "            paths: {\n",
       "                'plotly': ['https://cdn.plot.ly/plotly-2.12.1.min']\n",
       "            }\n",
       "        });\n",
       "        require(['plotly'], function(Plotly) {\n",
       "            window._Plotly = Plotly;\n",
       "        });\n",
       "        }\n",
       "        </script>\n",
       "        "
      ]
     },
     "metadata": {},
     "output_type": "display_data"
    },
    {
     "data": {
      "application/vnd.plotly.v1+json": {
       "config": {
        "linkText": "Export to plot.ly",
        "plotlyServerURL": "https://plot.ly",
        "showLink": true
       },
       "data": [
        {
         "marker": {
          "color": "rgba(55, 128, 191, 0.6)",
          "line": {
           "color": "rgba(55, 128, 191, 1.0)",
           "width": 1
          }
         },
         "name": "State",
         "orientation": "v",
         "text": "",
         "type": "bar",
         "x": [
          "Benign",
          "Botnet"
         ],
         "y": [
          174601,
          54025
         ]
        }
       ],
       "layout": {
        "bargap": 0.2,
        "height": 450,
        "legend": {
         "bgcolor": "#F2F3F7",
         "font": {
          "color": "#505050"
         }
        },
        "paper_bgcolor": "#F2F3F7",
        "plot_bgcolor": "#F2F3F7",
        "template": {
         "data": {
          "bar": [
           {
            "error_x": {
             "color": "#2a3f5f"
            },
            "error_y": {
             "color": "#2a3f5f"
            },
            "marker": {
             "line": {
              "color": "#E5ECF6",
              "width": 0.5
             },
             "pattern": {
              "fillmode": "overlay",
              "size": 10,
              "solidity": 0.2
             }
            },
            "type": "bar"
           }
          ],
          "barpolar": [
           {
            "marker": {
             "line": {
              "color": "#E5ECF6",
              "width": 0.5
             },
             "pattern": {
              "fillmode": "overlay",
              "size": 10,
              "solidity": 0.2
             }
            },
            "type": "barpolar"
           }
          ],
          "carpet": [
           {
            "aaxis": {
             "endlinecolor": "#2a3f5f",
             "gridcolor": "white",
             "linecolor": "white",
             "minorgridcolor": "white",
             "startlinecolor": "#2a3f5f"
            },
            "baxis": {
             "endlinecolor": "#2a3f5f",
             "gridcolor": "white",
             "linecolor": "white",
             "minorgridcolor": "white",
             "startlinecolor": "#2a3f5f"
            },
            "type": "carpet"
           }
          ],
          "choropleth": [
           {
            "colorbar": {
             "outlinewidth": 0,
             "ticks": ""
            },
            "type": "choropleth"
           }
          ],
          "contour": [
           {
            "colorbar": {
             "outlinewidth": 0,
             "ticks": ""
            },
            "colorscale": [
             [
              0,
              "#0d0887"
             ],
             [
              0.1111111111111111,
              "#46039f"
             ],
             [
              0.2222222222222222,
              "#7201a8"
             ],
             [
              0.3333333333333333,
              "#9c179e"
             ],
             [
              0.4444444444444444,
              "#bd3786"
             ],
             [
              0.5555555555555556,
              "#d8576b"
             ],
             [
              0.6666666666666666,
              "#ed7953"
             ],
             [
              0.7777777777777778,
              "#fb9f3a"
             ],
             [
              0.8888888888888888,
              "#fdca26"
             ],
             [
              1,
              "#f0f921"
             ]
            ],
            "type": "contour"
           }
          ],
          "contourcarpet": [
           {
            "colorbar": {
             "outlinewidth": 0,
             "ticks": ""
            },
            "type": "contourcarpet"
           }
          ],
          "heatmap": [
           {
            "colorbar": {
             "outlinewidth": 0,
             "ticks": ""
            },
            "colorscale": [
             [
              0,
              "#0d0887"
             ],
             [
              0.1111111111111111,
              "#46039f"
             ],
             [
              0.2222222222222222,
              "#7201a8"
             ],
             [
              0.3333333333333333,
              "#9c179e"
             ],
             [
              0.4444444444444444,
              "#bd3786"
             ],
             [
              0.5555555555555556,
              "#d8576b"
             ],
             [
              0.6666666666666666,
              "#ed7953"
             ],
             [
              0.7777777777777778,
              "#fb9f3a"
             ],
             [
              0.8888888888888888,
              "#fdca26"
             ],
             [
              1,
              "#f0f921"
             ]
            ],
            "type": "heatmap"
           }
          ],
          "heatmapgl": [
           {
            "colorbar": {
             "outlinewidth": 0,
             "ticks": ""
            },
            "colorscale": [
             [
              0,
              "#0d0887"
             ],
             [
              0.1111111111111111,
              "#46039f"
             ],
             [
              0.2222222222222222,
              "#7201a8"
             ],
             [
              0.3333333333333333,
              "#9c179e"
             ],
             [
              0.4444444444444444,
              "#bd3786"
             ],
             [
              0.5555555555555556,
              "#d8576b"
             ],
             [
              0.6666666666666666,
              "#ed7953"
             ],
             [
              0.7777777777777778,
              "#fb9f3a"
             ],
             [
              0.8888888888888888,
              "#fdca26"
             ],
             [
              1,
              "#f0f921"
             ]
            ],
            "type": "heatmapgl"
           }
          ],
          "histogram": [
           {
            "marker": {
             "pattern": {
              "fillmode": "overlay",
              "size": 10,
              "solidity": 0.2
             }
            },
            "type": "histogram"
           }
          ],
          "histogram2d": [
           {
            "colorbar": {
             "outlinewidth": 0,
             "ticks": ""
            },
            "colorscale": [
             [
              0,
              "#0d0887"
             ],
             [
              0.1111111111111111,
              "#46039f"
             ],
             [
              0.2222222222222222,
              "#7201a8"
             ],
             [
              0.3333333333333333,
              "#9c179e"
             ],
             [
              0.4444444444444444,
              "#bd3786"
             ],
             [
              0.5555555555555556,
              "#d8576b"
             ],
             [
              0.6666666666666666,
              "#ed7953"
             ],
             [
              0.7777777777777778,
              "#fb9f3a"
             ],
             [
              0.8888888888888888,
              "#fdca26"
             ],
             [
              1,
              "#f0f921"
             ]
            ],
            "type": "histogram2d"
           }
          ],
          "histogram2dcontour": [
           {
            "colorbar": {
             "outlinewidth": 0,
             "ticks": ""
            },
            "colorscale": [
             [
              0,
              "#0d0887"
             ],
             [
              0.1111111111111111,
              "#46039f"
             ],
             [
              0.2222222222222222,
              "#7201a8"
             ],
             [
              0.3333333333333333,
              "#9c179e"
             ],
             [
              0.4444444444444444,
              "#bd3786"
             ],
             [
              0.5555555555555556,
              "#d8576b"
             ],
             [
              0.6666666666666666,
              "#ed7953"
             ],
             [
              0.7777777777777778,
              "#fb9f3a"
             ],
             [
              0.8888888888888888,
              "#fdca26"
             ],
             [
              1,
              "#f0f921"
             ]
            ],
            "type": "histogram2dcontour"
           }
          ],
          "mesh3d": [
           {
            "colorbar": {
             "outlinewidth": 0,
             "ticks": ""
            },
            "type": "mesh3d"
           }
          ],
          "parcoords": [
           {
            "line": {
             "colorbar": {
              "outlinewidth": 0,
              "ticks": ""
             }
            },
            "type": "parcoords"
           }
          ],
          "pie": [
           {
            "automargin": true,
            "type": "pie"
           }
          ],
          "scatter": [
           {
            "fillpattern": {
             "fillmode": "overlay",
             "size": 10,
             "solidity": 0.2
            },
            "type": "scatter"
           }
          ],
          "scatter3d": [
           {
            "line": {
             "colorbar": {
              "outlinewidth": 0,
              "ticks": ""
             }
            },
            "marker": {
             "colorbar": {
              "outlinewidth": 0,
              "ticks": ""
             }
            },
            "type": "scatter3d"
           }
          ],
          "scattercarpet": [
           {
            "marker": {
             "colorbar": {
              "outlinewidth": 0,
              "ticks": ""
             }
            },
            "type": "scattercarpet"
           }
          ],
          "scattergeo": [
           {
            "marker": {
             "colorbar": {
              "outlinewidth": 0,
              "ticks": ""
             }
            },
            "type": "scattergeo"
           }
          ],
          "scattergl": [
           {
            "marker": {
             "colorbar": {
              "outlinewidth": 0,
              "ticks": ""
             }
            },
            "type": "scattergl"
           }
          ],
          "scattermapbox": [
           {
            "marker": {
             "colorbar": {
              "outlinewidth": 0,
              "ticks": ""
             }
            },
            "type": "scattermapbox"
           }
          ],
          "scatterpolar": [
           {
            "marker": {
             "colorbar": {
              "outlinewidth": 0,
              "ticks": ""
             }
            },
            "type": "scatterpolar"
           }
          ],
          "scatterpolargl": [
           {
            "marker": {
             "colorbar": {
              "outlinewidth": 0,
              "ticks": ""
             }
            },
            "type": "scatterpolargl"
           }
          ],
          "scatterternary": [
           {
            "marker": {
             "colorbar": {
              "outlinewidth": 0,
              "ticks": ""
             }
            },
            "type": "scatterternary"
           }
          ],
          "surface": [
           {
            "colorbar": {
             "outlinewidth": 0,
             "ticks": ""
            },
            "colorscale": [
             [
              0,
              "#0d0887"
             ],
             [
              0.1111111111111111,
              "#46039f"
             ],
             [
              0.2222222222222222,
              "#7201a8"
             ],
             [
              0.3333333333333333,
              "#9c179e"
             ],
             [
              0.4444444444444444,
              "#bd3786"
             ],
             [
              0.5555555555555556,
              "#d8576b"
             ],
             [
              0.6666666666666666,
              "#ed7953"
             ],
             [
              0.7777777777777778,
              "#fb9f3a"
             ],
             [
              0.8888888888888888,
              "#fdca26"
             ],
             [
              1,
              "#f0f921"
             ]
            ],
            "type": "surface"
           }
          ],
          "table": [
           {
            "cells": {
             "fill": {
              "color": "#EBF0F8"
             },
             "line": {
              "color": "white"
             }
            },
            "header": {
             "fill": {
              "color": "#C8D4E3"
             },
             "line": {
              "color": "white"
             }
            },
            "type": "table"
           }
          ]
         },
         "layout": {
          "annotationdefaults": {
           "arrowcolor": "#2a3f5f",
           "arrowhead": 0,
           "arrowwidth": 1
          },
          "autotypenumbers": "strict",
          "coloraxis": {
           "colorbar": {
            "outlinewidth": 0,
            "ticks": ""
           }
          },
          "colorscale": {
           "diverging": [
            [
             0,
             "#8e0152"
            ],
            [
             0.1,
             "#c51b7d"
            ],
            [
             0.2,
             "#de77ae"
            ],
            [
             0.3,
             "#f1b6da"
            ],
            [
             0.4,
             "#fde0ef"
            ],
            [
             0.5,
             "#f7f7f7"
            ],
            [
             0.6,
             "#e6f5d0"
            ],
            [
             0.7,
             "#b8e186"
            ],
            [
             0.8,
             "#7fbc41"
            ],
            [
             0.9,
             "#4d9221"
            ],
            [
             1,
             "#276419"
            ]
           ],
           "sequential": [
            [
             0,
             "#0d0887"
            ],
            [
             0.1111111111111111,
             "#46039f"
            ],
            [
             0.2222222222222222,
             "#7201a8"
            ],
            [
             0.3333333333333333,
             "#9c179e"
            ],
            [
             0.4444444444444444,
             "#bd3786"
            ],
            [
             0.5555555555555556,
             "#d8576b"
            ],
            [
             0.6666666666666666,
             "#ed7953"
            ],
            [
             0.7777777777777778,
             "#fb9f3a"
            ],
            [
             0.8888888888888888,
             "#fdca26"
            ],
            [
             1,
             "#f0f921"
            ]
           ],
           "sequentialminus": [
            [
             0,
             "#0d0887"
            ],
            [
             0.1111111111111111,
             "#46039f"
            ],
            [
             0.2222222222222222,
             "#7201a8"
            ],
            [
             0.3333333333333333,
             "#9c179e"
            ],
            [
             0.4444444444444444,
             "#bd3786"
            ],
            [
             0.5555555555555556,
             "#d8576b"
            ],
            [
             0.6666666666666666,
             "#ed7953"
            ],
            [
             0.7777777777777778,
             "#fb9f3a"
            ],
            [
             0.8888888888888888,
             "#fdca26"
            ],
            [
             1,
             "#f0f921"
            ]
           ]
          },
          "colorway": [
           "#636efa",
           "#EF553B",
           "#00cc96",
           "#ab63fa",
           "#FFA15A",
           "#19d3f3",
           "#FF6692",
           "#B6E880",
           "#FF97FF",
           "#FECB52"
          ],
          "font": {
           "color": "#2a3f5f"
          },
          "geo": {
           "bgcolor": "white",
           "lakecolor": "white",
           "landcolor": "#E5ECF6",
           "showlakes": true,
           "showland": true,
           "subunitcolor": "white"
          },
          "hoverlabel": {
           "align": "left"
          },
          "hovermode": "closest",
          "mapbox": {
           "style": "light"
          },
          "paper_bgcolor": "white",
          "plot_bgcolor": "#E5ECF6",
          "polar": {
           "angularaxis": {
            "gridcolor": "white",
            "linecolor": "white",
            "ticks": ""
           },
           "bgcolor": "#E5ECF6",
           "radialaxis": {
            "gridcolor": "white",
            "linecolor": "white",
            "ticks": ""
           }
          },
          "scene": {
           "xaxis": {
            "backgroundcolor": "#E5ECF6",
            "gridcolor": "white",
            "gridwidth": 2,
            "linecolor": "white",
            "showbackground": true,
            "ticks": "",
            "zerolinecolor": "white"
           },
           "yaxis": {
            "backgroundcolor": "#E5ECF6",
            "gridcolor": "white",
            "gridwidth": 2,
            "linecolor": "white",
            "showbackground": true,
            "ticks": "",
            "zerolinecolor": "white"
           },
           "zaxis": {
            "backgroundcolor": "#E5ECF6",
            "gridcolor": "white",
            "gridwidth": 2,
            "linecolor": "white",
            "showbackground": true,
            "ticks": "",
            "zerolinecolor": "white"
           }
          },
          "shapedefaults": {
           "line": {
            "color": "#2a3f5f"
           }
          },
          "ternary": {
           "aaxis": {
            "gridcolor": "white",
            "linecolor": "white",
            "ticks": ""
           },
           "baxis": {
            "gridcolor": "white",
            "linecolor": "white",
            "ticks": ""
           },
           "bgcolor": "#E5ECF6",
           "caxis": {
            "gridcolor": "white",
            "linecolor": "white",
            "ticks": ""
           }
          },
          "title": {
           "x": 0.05
          },
          "xaxis": {
           "automargin": true,
           "gridcolor": "white",
           "linecolor": "white",
           "ticks": "",
           "title": {
            "standoff": 15
           },
           "zerolinecolor": "white",
           "zerolinewidth": 2
          },
          "yaxis": {
           "automargin": true,
           "gridcolor": "white",
           "linecolor": "white",
           "ticks": "",
           "title": {
            "standoff": 15
           },
           "zerolinecolor": "white",
           "zerolinewidth": 2
          }
         }
        },
        "title": {
         "font": {
          "color": "#484848"
         },
         "text": "Dataset after balanced"
        },
        "width": 600,
        "xaxis": {
         "gridcolor": "#E1E5ED",
         "showgrid": true,
         "tickfont": {
          "color": "#505050"
         },
         "title": {
          "font": {
           "color": "#505050"
          },
          "text": "Label"
         },
         "zerolinecolor": "#E1E5ED"
        },
        "yaxis": {
         "gridcolor": "#E1E5ED",
         "showgrid": true,
         "tickfont": {
          "color": "#505050"
         },
         "title": {
          "font": {
           "color": "#505050"
          },
          "text": "No of Datasets"
         },
         "zerolinecolor": "#E1E5ED"
        }
       }
      },
      "text/html": [
       "<div>                            <div id=\"27419c76-049a-455a-9e2b-32ce52ca7d95\" class=\"plotly-graph-div\" style=\"height:450px; width:600px;\"></div>            <script type=\"text/javascript\">                require([\"plotly\"], function(Plotly) {                    window.PLOTLYENV=window.PLOTLYENV || {};\n",
       "                    window.PLOTLYENV.BASE_URL='https://plot.ly';                                    if (document.getElementById(\"27419c76-049a-455a-9e2b-32ce52ca7d95\")) {                    Plotly.newPlot(                        \"27419c76-049a-455a-9e2b-32ce52ca7d95\",                        [{\"marker\":{\"color\":\"rgba(55, 128, 191, 0.6)\",\"line\":{\"color\":\"rgba(55, 128, 191, 1.0)\",\"width\":1}},\"name\":\"State\",\"orientation\":\"v\",\"text\":\"\",\"x\":[\"Benign\",\"Botnet\"],\"y\":[174601,54025],\"type\":\"bar\"}],                        {\"bargap\":0.2,\"height\":450,\"legend\":{\"bgcolor\":\"#F2F3F7\",\"font\":{\"color\":\"#505050\"}},\"paper_bgcolor\":\"#F2F3F7\",\"plot_bgcolor\":\"#F2F3F7\",\"template\":{\"data\":{\"barpolar\":[{\"marker\":{\"line\":{\"color\":\"#E5ECF6\",\"width\":0.5},\"pattern\":{\"fillmode\":\"overlay\",\"size\":10,\"solidity\":0.2}},\"type\":\"barpolar\"}],\"bar\":[{\"error_x\":{\"color\":\"#2a3f5f\"},\"error_y\":{\"color\":\"#2a3f5f\"},\"marker\":{\"line\":{\"color\":\"#E5ECF6\",\"width\":0.5},\"pattern\":{\"fillmode\":\"overlay\",\"size\":10,\"solidity\":0.2}},\"type\":\"bar\"}],\"carpet\":[{\"aaxis\":{\"endlinecolor\":\"#2a3f5f\",\"gridcolor\":\"white\",\"linecolor\":\"white\",\"minorgridcolor\":\"white\",\"startlinecolor\":\"#2a3f5f\"},\"baxis\":{\"endlinecolor\":\"#2a3f5f\",\"gridcolor\":\"white\",\"linecolor\":\"white\",\"minorgridcolor\":\"white\",\"startlinecolor\":\"#2a3f5f\"},\"type\":\"carpet\"}],\"choropleth\":[{\"colorbar\":{\"outlinewidth\":0,\"ticks\":\"\"},\"type\":\"choropleth\"}],\"contourcarpet\":[{\"colorbar\":{\"outlinewidth\":0,\"ticks\":\"\"},\"type\":\"contourcarpet\"}],\"contour\":[{\"colorbar\":{\"outlinewidth\":0,\"ticks\":\"\"},\"colorscale\":[[0.0,\"#0d0887\"],[0.1111111111111111,\"#46039f\"],[0.2222222222222222,\"#7201a8\"],[0.3333333333333333,\"#9c179e\"],[0.4444444444444444,\"#bd3786\"],[0.5555555555555556,\"#d8576b\"],[0.6666666666666666,\"#ed7953\"],[0.7777777777777778,\"#fb9f3a\"],[0.8888888888888888,\"#fdca26\"],[1.0,\"#f0f921\"]],\"type\":\"contour\"}],\"heatmapgl\":[{\"colorbar\":{\"outlinewidth\":0,\"ticks\":\"\"},\"colorscale\":[[0.0,\"#0d0887\"],[0.1111111111111111,\"#46039f\"],[0.2222222222222222,\"#7201a8\"],[0.3333333333333333,\"#9c179e\"],[0.4444444444444444,\"#bd3786\"],[0.5555555555555556,\"#d8576b\"],[0.6666666666666666,\"#ed7953\"],[0.7777777777777778,\"#fb9f3a\"],[0.8888888888888888,\"#fdca26\"],[1.0,\"#f0f921\"]],\"type\":\"heatmapgl\"}],\"heatmap\":[{\"colorbar\":{\"outlinewidth\":0,\"ticks\":\"\"},\"colorscale\":[[0.0,\"#0d0887\"],[0.1111111111111111,\"#46039f\"],[0.2222222222222222,\"#7201a8\"],[0.3333333333333333,\"#9c179e\"],[0.4444444444444444,\"#bd3786\"],[0.5555555555555556,\"#d8576b\"],[0.6666666666666666,\"#ed7953\"],[0.7777777777777778,\"#fb9f3a\"],[0.8888888888888888,\"#fdca26\"],[1.0,\"#f0f921\"]],\"type\":\"heatmap\"}],\"histogram2dcontour\":[{\"colorbar\":{\"outlinewidth\":0,\"ticks\":\"\"},\"colorscale\":[[0.0,\"#0d0887\"],[0.1111111111111111,\"#46039f\"],[0.2222222222222222,\"#7201a8\"],[0.3333333333333333,\"#9c179e\"],[0.4444444444444444,\"#bd3786\"],[0.5555555555555556,\"#d8576b\"],[0.6666666666666666,\"#ed7953\"],[0.7777777777777778,\"#fb9f3a\"],[0.8888888888888888,\"#fdca26\"],[1.0,\"#f0f921\"]],\"type\":\"histogram2dcontour\"}],\"histogram2d\":[{\"colorbar\":{\"outlinewidth\":0,\"ticks\":\"\"},\"colorscale\":[[0.0,\"#0d0887\"],[0.1111111111111111,\"#46039f\"],[0.2222222222222222,\"#7201a8\"],[0.3333333333333333,\"#9c179e\"],[0.4444444444444444,\"#bd3786\"],[0.5555555555555556,\"#d8576b\"],[0.6666666666666666,\"#ed7953\"],[0.7777777777777778,\"#fb9f3a\"],[0.8888888888888888,\"#fdca26\"],[1.0,\"#f0f921\"]],\"type\":\"histogram2d\"}],\"histogram\":[{\"marker\":{\"pattern\":{\"fillmode\":\"overlay\",\"size\":10,\"solidity\":0.2}},\"type\":\"histogram\"}],\"mesh3d\":[{\"colorbar\":{\"outlinewidth\":0,\"ticks\":\"\"},\"type\":\"mesh3d\"}],\"parcoords\":[{\"line\":{\"colorbar\":{\"outlinewidth\":0,\"ticks\":\"\"}},\"type\":\"parcoords\"}],\"pie\":[{\"automargin\":true,\"type\":\"pie\"}],\"scatter3d\":[{\"line\":{\"colorbar\":{\"outlinewidth\":0,\"ticks\":\"\"}},\"marker\":{\"colorbar\":{\"outlinewidth\":0,\"ticks\":\"\"}},\"type\":\"scatter3d\"}],\"scattercarpet\":[{\"marker\":{\"colorbar\":{\"outlinewidth\":0,\"ticks\":\"\"}},\"type\":\"scattercarpet\"}],\"scattergeo\":[{\"marker\":{\"colorbar\":{\"outlinewidth\":0,\"ticks\":\"\"}},\"type\":\"scattergeo\"}],\"scattergl\":[{\"marker\":{\"colorbar\":{\"outlinewidth\":0,\"ticks\":\"\"}},\"type\":\"scattergl\"}],\"scattermapbox\":[{\"marker\":{\"colorbar\":{\"outlinewidth\":0,\"ticks\":\"\"}},\"type\":\"scattermapbox\"}],\"scatterpolargl\":[{\"marker\":{\"colorbar\":{\"outlinewidth\":0,\"ticks\":\"\"}},\"type\":\"scatterpolargl\"}],\"scatterpolar\":[{\"marker\":{\"colorbar\":{\"outlinewidth\":0,\"ticks\":\"\"}},\"type\":\"scatterpolar\"}],\"scatter\":[{\"fillpattern\":{\"fillmode\":\"overlay\",\"size\":10,\"solidity\":0.2},\"type\":\"scatter\"}],\"scatterternary\":[{\"marker\":{\"colorbar\":{\"outlinewidth\":0,\"ticks\":\"\"}},\"type\":\"scatterternary\"}],\"surface\":[{\"colorbar\":{\"outlinewidth\":0,\"ticks\":\"\"},\"colorscale\":[[0.0,\"#0d0887\"],[0.1111111111111111,\"#46039f\"],[0.2222222222222222,\"#7201a8\"],[0.3333333333333333,\"#9c179e\"],[0.4444444444444444,\"#bd3786\"],[0.5555555555555556,\"#d8576b\"],[0.6666666666666666,\"#ed7953\"],[0.7777777777777778,\"#fb9f3a\"],[0.8888888888888888,\"#fdca26\"],[1.0,\"#f0f921\"]],\"type\":\"surface\"}],\"table\":[{\"cells\":{\"fill\":{\"color\":\"#EBF0F8\"},\"line\":{\"color\":\"white\"}},\"header\":{\"fill\":{\"color\":\"#C8D4E3\"},\"line\":{\"color\":\"white\"}},\"type\":\"table\"}]},\"layout\":{\"annotationdefaults\":{\"arrowcolor\":\"#2a3f5f\",\"arrowhead\":0,\"arrowwidth\":1},\"autotypenumbers\":\"strict\",\"coloraxis\":{\"colorbar\":{\"outlinewidth\":0,\"ticks\":\"\"}},\"colorscale\":{\"diverging\":[[0,\"#8e0152\"],[0.1,\"#c51b7d\"],[0.2,\"#de77ae\"],[0.3,\"#f1b6da\"],[0.4,\"#fde0ef\"],[0.5,\"#f7f7f7\"],[0.6,\"#e6f5d0\"],[0.7,\"#b8e186\"],[0.8,\"#7fbc41\"],[0.9,\"#4d9221\"],[1,\"#276419\"]],\"sequential\":[[0.0,\"#0d0887\"],[0.1111111111111111,\"#46039f\"],[0.2222222222222222,\"#7201a8\"],[0.3333333333333333,\"#9c179e\"],[0.4444444444444444,\"#bd3786\"],[0.5555555555555556,\"#d8576b\"],[0.6666666666666666,\"#ed7953\"],[0.7777777777777778,\"#fb9f3a\"],[0.8888888888888888,\"#fdca26\"],[1.0,\"#f0f921\"]],\"sequentialminus\":[[0.0,\"#0d0887\"],[0.1111111111111111,\"#46039f\"],[0.2222222222222222,\"#7201a8\"],[0.3333333333333333,\"#9c179e\"],[0.4444444444444444,\"#bd3786\"],[0.5555555555555556,\"#d8576b\"],[0.6666666666666666,\"#ed7953\"],[0.7777777777777778,\"#fb9f3a\"],[0.8888888888888888,\"#fdca26\"],[1.0,\"#f0f921\"]]},\"colorway\":[\"#636efa\",\"#EF553B\",\"#00cc96\",\"#ab63fa\",\"#FFA15A\",\"#19d3f3\",\"#FF6692\",\"#B6E880\",\"#FF97FF\",\"#FECB52\"],\"font\":{\"color\":\"#2a3f5f\"},\"geo\":{\"bgcolor\":\"white\",\"lakecolor\":\"white\",\"landcolor\":\"#E5ECF6\",\"showlakes\":true,\"showland\":true,\"subunitcolor\":\"white\"},\"hoverlabel\":{\"align\":\"left\"},\"hovermode\":\"closest\",\"mapbox\":{\"style\":\"light\"},\"paper_bgcolor\":\"white\",\"plot_bgcolor\":\"#E5ECF6\",\"polar\":{\"angularaxis\":{\"gridcolor\":\"white\",\"linecolor\":\"white\",\"ticks\":\"\"},\"bgcolor\":\"#E5ECF6\",\"radialaxis\":{\"gridcolor\":\"white\",\"linecolor\":\"white\",\"ticks\":\"\"}},\"scene\":{\"xaxis\":{\"backgroundcolor\":\"#E5ECF6\",\"gridcolor\":\"white\",\"gridwidth\":2,\"linecolor\":\"white\",\"showbackground\":true,\"ticks\":\"\",\"zerolinecolor\":\"white\"},\"yaxis\":{\"backgroundcolor\":\"#E5ECF6\",\"gridcolor\":\"white\",\"gridwidth\":2,\"linecolor\":\"white\",\"showbackground\":true,\"ticks\":\"\",\"zerolinecolor\":\"white\"},\"zaxis\":{\"backgroundcolor\":\"#E5ECF6\",\"gridcolor\":\"white\",\"gridwidth\":2,\"linecolor\":\"white\",\"showbackground\":true,\"ticks\":\"\",\"zerolinecolor\":\"white\"}},\"shapedefaults\":{\"line\":{\"color\":\"#2a3f5f\"}},\"ternary\":{\"aaxis\":{\"gridcolor\":\"white\",\"linecolor\":\"white\",\"ticks\":\"\"},\"baxis\":{\"gridcolor\":\"white\",\"linecolor\":\"white\",\"ticks\":\"\"},\"bgcolor\":\"#E5ECF6\",\"caxis\":{\"gridcolor\":\"white\",\"linecolor\":\"white\",\"ticks\":\"\"}},\"title\":{\"x\":0.05},\"xaxis\":{\"automargin\":true,\"gridcolor\":\"white\",\"linecolor\":\"white\",\"ticks\":\"\",\"title\":{\"standoff\":15},\"zerolinecolor\":\"white\",\"zerolinewidth\":2},\"yaxis\":{\"automargin\":true,\"gridcolor\":\"white\",\"linecolor\":\"white\",\"ticks\":\"\",\"title\":{\"standoff\":15},\"zerolinecolor\":\"white\",\"zerolinewidth\":2}}},\"title\":{\"font\":{\"color\":\"#484848\"},\"text\":\"Dataset after balanced\"},\"width\":600,\"xaxis\":{\"gridcolor\":\"#E1E5ED\",\"showgrid\":true,\"tickfont\":{\"color\":\"#505050\"},\"title\":{\"font\":{\"color\":\"#505050\"},\"text\":\"Label\"},\"zerolinecolor\":\"#E1E5ED\"},\"yaxis\":{\"gridcolor\":\"#E1E5ED\",\"showgrid\":true,\"tickfont\":{\"color\":\"#505050\"},\"title\":{\"font\":{\"color\":\"#505050\"},\"text\":\"No of Datasets\"},\"zerolinecolor\":\"#E1E5ED\"}},                        {\"showLink\": true, \"linkText\": \"Export to plot.ly\", \"plotlyServerURL\": \"https://plot.ly\", \"responsive\": true}                    ).then(function(){\n",
       "                            \n",
       "var gd = document.getElementById('27419c76-049a-455a-9e2b-32ce52ca7d95');\n",
       "var x = new MutationObserver(function (mutations, observer) {{\n",
       "        var display = window.getComputedStyle(gd).display;\n",
       "        if (!display || display === 'none') {{\n",
       "            console.log([gd, 'removed!']);\n",
       "            Plotly.purge(gd);\n",
       "            observer.disconnect();\n",
       "        }}\n",
       "}});\n",
       "\n",
       "// Listen for the removal of the full notebook cells\n",
       "var notebookContainer = gd.closest('#notebook-container');\n",
       "if (notebookContainer) {{\n",
       "    x.observe(notebookContainer, {childList: true});\n",
       "}}\n",
       "\n",
       "// Listen for the clearing of the current output cell\n",
       "var outputEl = gd.closest('.output');\n",
       "if (outputEl) {{\n",
       "    x.observe(outputEl, {childList: true});\n",
       "}}\n",
       "\n",
       "                        })                };                });            </script>        </div>"
      ]
     },
     "metadata": {},
     "output_type": "display_data"
    },
    {
     "name": "stdout",
     "output_type": "stream",
     "text": [
      "Ration of Bot to benign: 76.37 %\n"
     ]
    }
   ],
   "source": [
    "labels = ['Benign', 'Botnet']\n",
    "count_bot=data_balance[data_balance.Label==1]\n",
    "count_benign=data_balance[data_balance.Label==0]\n",
    "counts = [count_benign.shape[0],count_bot.shape[0]]\n",
    "state={'Labels':labels,'State':counts}\n",
    "show_datasts=pd.DataFrame.from_dict(state)\n",
    "cfs.set_config_file(sharing='Public',theme='polar',offline=True)\n",
    "benign_bot_status=show_datasts.set_index('Labels')\n",
    "benign_bot_status.iplot(kind='bar',colors=['blue'],bestfit_colors=['black'],xTitle=\"Label\",yTitle=\"No of Datasets\",dimensions=(600,450),\n",
    "                        title='Dataset after balanced',bargap=0.2,sortbars=True)\n",
    "balance_check=(count_benign.shape[0]/(count_benign.shape[0]+count_bot.shape[0]))*100\n",
    "print('Ration of Bot to benign: %.2f'%balance_check,'%')"
   ]
  },
  {
   "cell_type": "code",
   "execution_count": 20,
   "metadata": {},
   "outputs": [
    {
     "data": {
      "image/png": "[encoded data removed]",
      "text/plain": [
       "<Figure size 432x288 with 1 Axes>"
      ]
     },
     "metadata": {
      "needs_background": "light"
     },
     "output_type": "display_data"
    }
   ],
   "source": [
    "# check data Normality\n",
    "xx=data_balance.drop('Label', axis=1)\n",
    "normality_check=sts.probplot(data_balance['Label'],dist=\"norm\",plot=plt)\n",
    "plt.show()"
   ]
  },
  {
   "cell_type": "code",
   "execution_count": 21,
   "metadata": {},
   "outputs": [
    {
     "name": "stdout",
     "output_type": "stream",
     "text": [
      "Train Data (182903, 77) (182903,)\n",
      "Validation Data (22862, 77) (22862,)\n",
      "Test (22861, 77) (22861,)\n"
     ]
    }
   ],
   "source": [
    "#### function to load and split data into Training, validation and Testing\n",
    "def load_dataset(filename):\n",
    "    x=filename.drop('Label',axis=1)\n",
    "    y=filename['Label']\n",
    "    return x,y\n",
    "x,y=load_dataset(data_balance)\n",
    "# x_randomed=x.iloc[permutation(x.index)]\n",
    "# y_random=y.iloc[permutation(y.index)]\n",
    "# y_random.index=x_randomed.index\n",
    "xx_train,x_test,yy_train,y_test=train_test_split(x,y,test_size=0.09999,random_state=42)\n",
    "# x_train,x_val,y_train,y_val=train_test_split(xx_train,yy_train,test_size=0.05263,random_state=1)\n",
    "kf=KFold(n_splits=9,random_state=42, shuffle=True)\n",
    "splits=kf.split(xx_train)\n",
    "for t_index,dev_index in splits:\n",
    "    x_train,x_val=xx_train.iloc[t_index],xx_train.iloc[dev_index]\n",
    "    y_train,y_val=yy_train.iloc[t_index],yy_train.iloc[dev_index]\n",
    "print(\"Train Data\",x_train.shape, y_train.shape)\n",
    "print(\"Validation Data\",x_val.shape, y_val.shape)\n",
    "print(\"Test\", x_test.shape, y_test.shape)"
   ]
  },
  {
   "cell_type": "markdown",
   "metadata": {},
   "source": [
    "# Feature selection \n",
    "Is based on the score function \"f_regression\". The f_regression ranks features in the same order based on the positive corelation of features with the target value: {x->y} x is independent variable and y is dependent variable. \n",
    "The correlation between each regressor and the target is computed via r_regression as:\n",
    "E[(X[:, i] - mean(X[:, i])) * (y - mean(y))] / (std(X[:, i]) * std(y))"
   ]
  },
  {
   "cell_type": "code",
   "execution_count": 22,
   "metadata": {},
   "outputs": [
    {
     "name": "stdout",
     "output_type": "stream",
     "text": [
      "Estimator :  DecisionTreeClassifier()\n",
      "Selecting features with genetic algorithm.\n",
      "gen\tnevals\tavg                               \tstd                               \tmin                            \tmax                               \n",
      "0  \t20    \t[  0.986874  34.4        0.000368]\t[  0.022137  21.866413   0.000329]\t[ 0.90297   3.        0.000081]\t[  0.998704  75.         0.001479]\n",
      "1  \t11    \t[  0.996737  49.6        0.000195]\t[  0.003939  18.084247   0.000097]\t[  0.981487  12.         0.000081]\t[  0.998704  75.         0.000524]\n",
      "2  \t10    \t[  0.998622  51.45       0.00018 ]\t[  0.000057  19.226219   0.000052]\t[  0.998496  26.         0.000108]\t[  0.998704  75.         0.00027 ]\n",
      "3  \t9     \t[  0.998665  34.05       0.000235]\t[ 0.000051  9.50513   0.000048]   \t[  0.998491  26.         0.000138]\t[  0.998704  60.         0.000274]\n",
      "4  \t10    \t[  0.997897  26.7        0.000262]\t[ 0.002052  2.238303  0.000063]   \t[  0.990263  23.         0.000164]\t[  0.998704  33.         0.000425]\n",
      "5  \t7     \t[  0.998603  26.2        0.000256]\t[ 0.000368  0.87178   0.000024]   \t[  0.997004  26.         0.000183]\t[  0.998704  30.         0.00027 ]\n",
      "Number of Feats: 26, Fitness scores : 0.999 \n",
      "Time taken: 393.9688889980316 seconds\n"
     ]
    }
   ],
   "source": [
    "# feature selection\n",
    "# estimators = linear_model.LinearRegression()\n",
    "estimators = DecisionTreeClassifier()\n",
    "# estimators = RandomForestRegressor()\n",
    "#estimators = MLPRegressor()\n",
    "t1=time.time()\n",
    "report = pd.DataFrame()\n",
    "nofeats = [] \n",
    "chosen_feats = [] \n",
    "cvscore = [] \n",
    "def select_features(x_train, y_train,x_test,x_val):\n",
    "   # selected_f=SelectKBest(score_func=f_regression,k=60)\n",
    "    #selected_f.fit_transform(x_train,y_train)\n",
    "    print(\"Estimator : \", estimators )\n",
    "    for i in range(1,x_train.shape[1]):  \n",
    "        selector = GeneticSelectionCV(estimators,cv = 5,verbose = 1,scoring=\"accuracy\", max_features = i,n_population = 20,\n",
    "                                      crossover_proba = 0.5,mutation_proba = 0.2,n_generations = 5,\n",
    "                                      crossover_independent_proba=0.5,mutation_independent_proba=0.2,tournament_size = 5,\n",
    "                                      n_gen_no_change=5,caching=True,n_jobs=-1)\n",
    "    selector = selector.fit(x_train, y_train)\n",
    "    genfeats = x_train.columns[selector.support_]\n",
    "    genfeats = list(genfeats)\n",
    "    print(\"Number of Feats: {}, Fitness scores : {} \" .format(selector.n_features_, round(selector.generation_scores_[-1], 3)))\n",
    "    cv_score = selector.generation_scores_[-1]\n",
    "    nofeats.append(len(genfeats)) \n",
    "    chosen_feats.append(genfeats) \n",
    "    cvscore.append(cv_score)\n",
    "    report[\"No of Features selected\"] = nofeats\n",
    "    report[\"Chosen Feats\"] = chosen_feats\n",
    "    report[\"Scores\"] = cvscore\n",
    "   #GA feature selection Time \n",
    "    t2=time.time()\n",
    "    t_polyfit = float(t2-t1)\n",
    "    print(\"Time taken: {} seconds\".format(t_polyfit))\n",
    "    #Ranking\n",
    "    x_trainsele_fs2=selector.transform(x_train)\n",
    "    x_testsele_fs2=selector.transform(x_test)\n",
    "    x_valsele_fs2=selector.transform(x_val)\n",
    "    return x_trainsele_fs2,x_testsele_fs2,x_valsele_fs2,selector\n",
    "# split dataset into training,testing and validation\n",
    "x_trainsele_fs1,x_testsele_fs1,x_valsele_fs1,selector=select_features(x_train,y_train,x_test,x_val)\n",
    "# Measuring all the features\n",
    "# for i in range(len(selector.scores_)):\n",
    "#     print('feature: %d, Score: %f'% (i,selector.scores_[i]))\n",
    "#     plt.bar([i for i in range(len(selector.scores_))],selector.scores_)\n",
    "#     plt.show"
   ]
  },
  {
   "cell_type": "code",
   "execution_count": 23,
   "metadata": {},
   "outputs": [
    {
     "name": "stdout",
     "output_type": "stream",
     "text": [
      "Selected Features based on Fitness value:\n",
      "  [' Flow Duration', ' Total Backward Packets', ' Fwd Packet Length Min', ' Fwd Packet Length Mean', ' Fwd Packet Length Std', ' Bwd Packet Length Min', 'Flow_Bytes', ' Bwd IAT Std', ' Bwd IAT Min', ' Bwd Header Length', ' Min Packet Length', ' PSH Flag Count', ' URG Flag Count', ' ECE Flag Count', ' Down/Up Ratio', ' Average Packet Size', ' Fwd Header Length.1', 'Fwd Avg Bytes/Bulk', ' Bwd Avg Packets/Bulk', 'Init_Win_bytes_forward', ' Init_Win_bytes_backward', ' act_data_pkt_fwd', ' Active Min', 'Idle Mean', ' Idle Std', ' Idle Max']\n",
      "\n",
      "\n",
      "Reports: \n"
     ]
    },
    {
     "data": {
      "text/html": [
       "<div>\n",
       "<style scoped>\n",
       "    .dataframe tbody tr th:only-of-type {\n",
       "        vertical-align: middle;\n",
       "    }\n",
       "\n",
       "    .dataframe tbody tr th {\n",
       "        vertical-align: top;\n",
       "    }\n",
       "\n",
       "    .dataframe thead th {\n",
       "        text-align: right;\n",
       "    }\n",
       "</style>\n",
       "<table border=\"1\" class=\"dataframe\">\n",
       "  <thead>\n",
       "    <tr style=\"text-align: right;\">\n",
       "      <th></th>\n",
       "      <th>No of Features selected</th>\n",
       "      <th>Chosen Feats</th>\n",
       "      <th>Scores</th>\n",
       "    </tr>\n",
       "  </thead>\n",
       "  <tbody>\n",
       "    <tr>\n",
       "      <th>0</th>\n",
       "      <td>26</td>\n",
       "      <td>[ Flow Duration,  Total Backward Packets,  Fwd...</td>\n",
       "      <td>0.999</td>\n",
       "    </tr>\n",
       "  </tbody>\n",
       "</table>\n",
       "</div>"
      ],
      "text/plain": [
       "   No of Features selected                                       Chosen Feats  \\\n",
       "0                       26  [ Flow Duration,  Total Backward Packets,  Fwd...   \n",
       "\n",
       "   Scores  \n",
       "0   0.999  "
      ]
     },
     "execution_count": 23,
     "metadata": {},
     "output_type": "execute_result"
    }
   ],
   "source": [
    "#Print Reports \n",
    "report[\"Scores\"] = np.round(report[\"Scores\"],3)\n",
    "report.sort_values(by = \"Scores\", ascending = True, inplace = True)\n",
    "#report.index\n",
    "ga_feats = report.iloc[0][\"Chosen Feats\"]\n",
    "print(\"Selected Features based on Fitness value:\\n \",ga_feats)\n",
    "print(\"\\n\\nReports: \")\n",
    "report"
   ]
  },
  {
   "cell_type": "code",
   "execution_count": 24,
   "metadata": {},
   "outputs": [
    {
     "name": "stdout",
     "output_type": "stream",
     "text": [
      "X_Training Value:  (182903, 26)\n",
      "Y_training set:  (182903,)\n"
     ]
    }
   ],
   "source": [
    "print('X_Training Value: ',x_trainsele_fs1.shape)\n",
    "print('Y_training set: ',y_train.shape)\n",
    "norm_MINMAX=MinMaxScaler(feature_range=(0,1))\n",
    "norm_MINMAX.fit(x_trainsele_fs1)\n",
    "x_trainsele_fs=norm_MINMAX.transform(x_trainsele_fs1)\n",
    "x_valsele_fs=norm_MINMAX.transform(x_valsele_fs1)\n",
    "x_testsele_fs=norm_MINMAX.transform(x_testsele_fs1)"
   ]
  },
  {
   "cell_type": "markdown",
   "metadata": {},
   "source": [
    "## Model Construction \n",
    "RMSProp: mathimatical algorithm{\n",
    "sdw=β(sdw)+(1-β)〖dw〗^2, \n",
    "sdb=β(sdb)+(1-β) 〖db〗^2, \n",
    "W:=W-αsdw/√(sdw+ε), \n",
    "b:=b-αsdb/√(sdb+ε)\n",
    "}\n",
    "\n",
    "Nonetheless, as per research activity, it is important to consider that deeper networks\n",
    "(networks with many hidden layers) outperform wider networks (networks with many\n",
    "units in each layer)."
   ]
  },
  {
   "cell_type": "code",
   "execution_count": 25,
   "metadata": {
    "scrolled": true
   },
   "outputs": [
    {
     "name": "stdout",
     "output_type": "stream",
     "text": [
      "(182903, 26)\n"
     ]
    },
    {
     "name": "stderr",
     "output_type": "stream",
     "text": [
      "<ipython-input-25-a02f829272cc>:11: DeprecationWarning:\n",
      "\n",
      "KerasClassifier is deprecated, use Sci-Keras (https://github.com/adriangb/scikeras) instead. See https://www.adriangb.com/scikeras/stable/migration.html for help migrating.\n",
      "\n"
     ]
    }
   ],
   "source": [
    "print(x_trainsele_fs.shape)\n",
    "def d_NN_model():\n",
    "    d_model=Sequential()\n",
    "    d_model.add(Dense(200,input_shape=(x_trainsele_fs.shape[1],),activation='relu'))\n",
    "    d_model.add(Dense(150,activation='relu'))\n",
    "    d_model.add(Dense(150,activation='relu'))\n",
    "    d_model.add(Dense(1,activation='sigmoid'))\n",
    "    optimizer1=optimizers.RMSprop(learning_rate=0.0001)\n",
    "    d_model.compile(optimizer=optimizer1,loss=\"binary_crossentropy\",metrics=[\"accuracy\"])\n",
    "    return d_model\n",
    "d_model=KerasClassifier(build_fn=d_NN_model)\n",
    "# batch_size=[500,1500,2500]\n",
    "# epochs=[128,256]\n",
    "# param_grid={'batch_size':batch_size,'epochs':epochs}\n",
    "# grid_model=GridSearchCV(estimator=d_model,param_grid=param_grid)\n",
    "# grid_model.fit(x_trainsele_fs,y_train,validation_data=(x_valsele_fs,y_val),batch_size=1500,epochs=128)\n",
    "# print(\"Best scores: \", grid_model.best_score_, \"Best parameters: \",grid_model.best_params_)"
   ]
  },
  {
   "cell_type": "code",
   "execution_count": 26,
   "metadata": {
    "scrolled": true
   },
   "outputs": [
    {
     "name": "stdout",
     "output_type": "stream",
     "text": [
      "Epoch 1/100\n",
      "732/732 [==============================] - 5s 5ms/step - loss: 0.2498 - accuracy: 0.9161 - val_loss: 0.1178 - val_accuracy: 0.9575\n",
      "Epoch 2/100\n",
      "732/732 [==============================] - 5s 7ms/step - loss: 0.0957 - accuracy: 0.9627 - val_loss: 0.0837 - val_accuracy: 0.9665\n",
      "Epoch 3/100\n",
      "732/732 [==============================] - 4s 6ms/step - loss: 0.0753 - accuracy: 0.9692 - val_loss: 0.0735 - val_accuracy: 0.9722\n",
      "Epoch 4/100\n",
      "732/732 [==============================] - 4s 6ms/step - loss: 0.0676 - accuracy: 0.9721 - val_loss: 0.0678 - val_accuracy: 0.9726\n",
      "Epoch 5/100\n",
      "732/732 [==============================] - 4s 6ms/step - loss: 0.0628 - accuracy: 0.9728 - val_loss: 0.0635 - val_accuracy: 0.9727\n",
      "Epoch 6/100\n",
      "732/732 [==============================] - 5s 6ms/step - loss: 0.0585 - accuracy: 0.9731 - val_loss: 0.0581 - val_accuracy: 0.9731\n",
      "Epoch 7/100\n",
      "732/732 [==============================] - 5s 6ms/step - loss: 0.0544 - accuracy: 0.9741 - val_loss: 0.0544 - val_accuracy: 0.9755\n",
      "Epoch 8/100\n",
      "732/732 [==============================] - 5s 7ms/step - loss: 0.0510 - accuracy: 0.9749 - val_loss: 0.0515 - val_accuracy: 0.9728\n",
      "Epoch 9/100\n",
      "732/732 [==============================] - 5s 7ms/step - loss: 0.0481 - accuracy: 0.9756 - val_loss: 0.0477 - val_accuracy: 0.9755\n",
      "Epoch 10/100\n",
      "732/732 [==============================] - 5s 7ms/step - loss: 0.0458 - accuracy: 0.9766 - val_loss: 0.0491 - val_accuracy: 0.9738\n",
      "Epoch 11/100\n",
      "732/732 [==============================] - 6s 8ms/step - loss: 0.0439 - accuracy: 0.9772 - val_loss: 0.0439 - val_accuracy: 0.9849\n",
      "Epoch 12/100\n",
      "732/732 [==============================] - 5s 7ms/step - loss: 0.0428 - accuracy: 0.9771 - val_loss: 0.0429 - val_accuracy: 0.9744\n",
      "Epoch 13/100\n",
      "732/732 [==============================] - 5s 7ms/step - loss: 0.0417 - accuracy: 0.9778 - val_loss: 0.0407 - val_accuracy: 0.9841\n",
      "Epoch 14/100\n",
      "732/732 [==============================] - 6s 9ms/step - loss: 0.0411 - accuracy: 0.9783 - val_loss: 0.0426 - val_accuracy: 0.9762\n",
      "Epoch 15/100\n",
      "732/732 [==============================] - 5s 7ms/step - loss: 0.0404 - accuracy: 0.9793 - val_loss: 0.0442 - val_accuracy: 0.9748\n",
      "Epoch 16/100\n",
      "732/732 [==============================] - 6s 8ms/step - loss: 0.0400 - accuracy: 0.9791 - val_loss: 0.0422 - val_accuracy: 0.9772\n",
      "Epoch 17/100\n",
      "732/732 [==============================] - 6s 8ms/step - loss: 0.0395 - accuracy: 0.9797 - val_loss: 0.0416 - val_accuracy: 0.9779\n",
      "Epoch 18/100\n",
      "732/732 [==============================] - 6s 8ms/step - loss: 0.0390 - accuracy: 0.9803 - val_loss: 0.0381 - val_accuracy: 0.9848\n",
      "Epoch 19/100\n",
      "732/732 [==============================] - 6s 8ms/step - loss: 0.0384 - accuracy: 0.9805 - val_loss: 0.0437 - val_accuracy: 0.9749\n",
      "Epoch 20/100\n",
      "732/732 [==============================] - 6s 9ms/step - loss: 0.0382 - accuracy: 0.9808 - val_loss: 0.0363 - val_accuracy: 0.9774\n",
      "Epoch 21/100\n",
      "732/732 [==============================] - 5s 7ms/step - loss: 0.0378 - accuracy: 0.9812 - val_loss: 0.0372 - val_accuracy: 0.9773\n",
      "Epoch 22/100\n",
      "732/732 [==============================] - 6s 9ms/step - loss: 0.0371 - accuracy: 0.9818 - val_loss: 0.0376 - val_accuracy: 0.9755\n",
      "Epoch 23/100\n",
      "732/732 [==============================] - 6s 8ms/step - loss: 0.0368 - accuracy: 0.9820 - val_loss: 0.0357 - val_accuracy: 0.9859\n",
      "Epoch 24/100\n",
      "732/732 [==============================] - 6s 8ms/step - loss: 0.0362 - accuracy: 0.9826 - val_loss: 0.0369 - val_accuracy: 0.9808\n",
      "Epoch 25/100\n",
      "732/732 [==============================] - 6s 8ms/step - loss: 0.0360 - accuracy: 0.9829 - val_loss: 0.0367 - val_accuracy: 0.9770\n",
      "Epoch 26/100\n",
      "732/732 [==============================] - 5s 7ms/step - loss: 0.0355 - accuracy: 0.9833 - val_loss: 0.0444 - val_accuracy: 0.9769\n",
      "Epoch 27/100\n",
      "732/732 [==============================] - 5s 7ms/step - loss: 0.0354 - accuracy: 0.9835 - val_loss: 0.0335 - val_accuracy: 0.9871\n",
      "Epoch 28/100\n",
      "732/732 [==============================] - 5s 7ms/step - loss: 0.0349 - accuracy: 0.9836 - val_loss: 0.0327 - val_accuracy: 0.9865\n",
      "Epoch 29/100\n",
      "732/732 [==============================] - 5s 6ms/step - loss: 0.0346 - accuracy: 0.9837 - val_loss: 0.0338 - val_accuracy: 0.9857\n",
      "Epoch 30/100\n",
      "732/732 [==============================] - 5s 7ms/step - loss: 0.0343 - accuracy: 0.9840 - val_loss: 0.0322 - val_accuracy: 0.9874\n",
      "Epoch 31/100\n",
      "732/732 [==============================] - 5s 7ms/step - loss: 0.0339 - accuracy: 0.9843 - val_loss: 0.0323 - val_accuracy: 0.9871\n",
      "Epoch 32/100\n",
      "732/732 [==============================] - 5s 6ms/step - loss: 0.0336 - accuracy: 0.9844 - val_loss: 0.0357 - val_accuracy: 0.9848\n",
      "Epoch 33/100\n",
      "732/732 [==============================] - 5s 7ms/step - loss: 0.0333 - accuracy: 0.9849 - val_loss: 0.0353 - val_accuracy: 0.9847\n",
      "Epoch 34/100\n",
      "732/732 [==============================] - 5s 7ms/step - loss: 0.0329 - accuracy: 0.9853 - val_loss: 0.0316 - val_accuracy: 0.9871\n",
      "Epoch 35/100\n",
      "732/732 [==============================] - 7s 10ms/step - loss: 0.0327 - accuracy: 0.9850 - val_loss: 0.0326 - val_accuracy: 0.9786\n",
      "Epoch 36/100\n",
      "732/732 [==============================] - 7s 10ms/step - loss: 0.0327 - accuracy: 0.9852 - val_loss: 0.0309 - val_accuracy: 0.9869\n",
      "Epoch 37/100\n",
      "732/732 [==============================] - 7s 9ms/step - loss: 0.0324 - accuracy: 0.9853 - val_loss: 0.0309 - val_accuracy: 0.9879\n",
      "Epoch 38/100\n",
      "732/732 [==============================] - 6s 9ms/step - loss: 0.0322 - accuracy: 0.9855 - val_loss: 0.0307 - val_accuracy: 0.9871\n",
      "Epoch 39/100\n",
      "732/732 [==============================] - 6s 8ms/step - loss: 0.0319 - accuracy: 0.9855 - val_loss: 0.0303 - val_accuracy: 0.9876\n",
      "Epoch 40/100\n",
      "732/732 [==============================] - 6s 9ms/step - loss: 0.0316 - accuracy: 0.9858 - val_loss: 0.0306 - val_accuracy: 0.9868\n",
      "Epoch 41/100\n",
      "732/732 [==============================] - 8s 12ms/step - loss: 0.0315 - accuracy: 0.9858 - val_loss: 0.0296 - val_accuracy: 0.9879\n",
      "Epoch 42/100\n",
      "732/732 [==============================] - 6s 8ms/step - loss: 0.0315 - accuracy: 0.9861 - val_loss: 0.0297 - val_accuracy: 0.9876\n",
      "Epoch 43/100\n",
      "732/732 [==============================] - 5s 7ms/step - loss: 0.0312 - accuracy: 0.9859 - val_loss: 0.0394 - val_accuracy: 0.9846\n",
      "Epoch 44/100\n",
      "732/732 [==============================] - 5s 7ms/step - loss: 0.0311 - accuracy: 0.9860 - val_loss: 0.0337 - val_accuracy: 0.9861\n",
      "Epoch 45/100\n",
      "732/732 [==============================] - 5s 7ms/step - loss: 0.0311 - accuracy: 0.9864 - val_loss: 0.0302 - val_accuracy: 0.9880\n",
      "Epoch 46/100\n",
      "732/732 [==============================] - 6s 8ms/step - loss: 0.0311 - accuracy: 0.9861 - val_loss: 0.0316 - val_accuracy: 0.9881\n",
      "Epoch 47/100\n",
      "732/732 [==============================] - 5s 7ms/step - loss: 0.0309 - accuracy: 0.9862 - val_loss: 0.0308 - val_accuracy: 0.9868\n",
      "Epoch 48/100\n",
      "732/732 [==============================] - 5s 7ms/step - loss: 0.0306 - accuracy: 0.9864 - val_loss: 0.0296 - val_accuracy: 0.9881\n",
      "Epoch 49/100\n",
      "732/732 [==============================] - 5s 7ms/step - loss: 0.0305 - accuracy: 0.9867 - val_loss: 0.0302 - val_accuracy: 0.9888\n",
      "Epoch 50/100\n",
      "732/732 [==============================] - 6s 8ms/step - loss: 0.0306 - accuracy: 0.9867 - val_loss: 0.0305 - val_accuracy: 0.9791\n",
      "Epoch 51/100\n",
      "732/732 [==============================] - 5s 7ms/step - loss: 0.0302 - accuracy: 0.9868 - val_loss: 0.0302 - val_accuracy: 0.9889\n",
      "Epoch 52/100\n",
      "732/732 [==============================] - 5s 7ms/step - loss: 0.0303 - accuracy: 0.9868 - val_loss: 0.0304 - val_accuracy: 0.9861\n",
      "Epoch 53/100\n",
      "732/732 [==============================] - 5s 7ms/step - loss: 0.0302 - accuracy: 0.9866 - val_loss: 0.0340 - val_accuracy: 0.9861\n",
      "Epoch 54/100\n",
      "732/732 [==============================] - 6s 9ms/step - loss: 0.0303 - accuracy: 0.9867 - val_loss: 0.0290 - val_accuracy: 0.9878\n",
      "Epoch 55/100\n",
      "732/732 [==============================] - 7s 9ms/step - loss: 0.0301 - accuracy: 0.9868 - val_loss: 0.0284 - val_accuracy: 0.9878\n",
      "Epoch 56/100\n",
      "732/732 [==============================] - 6s 8ms/step - loss: 0.0299 - accuracy: 0.9870 - val_loss: 0.0297 - val_accuracy: 0.9867\n",
      "Epoch 57/100\n",
      "732/732 [==============================] - 6s 8ms/step - loss: 0.0297 - accuracy: 0.9870 - val_loss: 0.0299 - val_accuracy: 0.9871\n"
     ]
    },
    {
     "name": "stdout",
     "output_type": "stream",
     "text": [
      "Epoch 58/100\n",
      "732/732 [==============================] - 5s 7ms/step - loss: 0.0300 - accuracy: 0.9869 - val_loss: 0.0305 - val_accuracy: 0.9865\n",
      "Epoch 59/100\n",
      "732/732 [==============================] - 5s 7ms/step - loss: 0.0297 - accuracy: 0.9872 - val_loss: 0.0347 - val_accuracy: 0.9842\n",
      "Epoch 60/100\n",
      "732/732 [==============================] - 5s 7ms/step - loss: 0.0296 - accuracy: 0.9869 - val_loss: 0.0291 - val_accuracy: 0.9875\n",
      "Epoch 61/100\n",
      "732/732 [==============================] - 5s 7ms/step - loss: 0.0296 - accuracy: 0.9871 - val_loss: 0.0288 - val_accuracy: 0.9879\n",
      "Epoch 62/100\n",
      "732/732 [==============================] - 5s 7ms/step - loss: 0.0294 - accuracy: 0.9872 - val_loss: 0.0289 - val_accuracy: 0.9879\n",
      "Epoch 63/100\n",
      "732/732 [==============================] - 5s 7ms/step - loss: 0.0296 - accuracy: 0.9874 - val_loss: 0.0733 - val_accuracy: 0.9845\n",
      "Epoch 64/100\n",
      "732/732 [==============================] - 5s 7ms/step - loss: 0.0297 - accuracy: 0.9871 - val_loss: 0.0278 - val_accuracy: 0.9881\n",
      "Epoch 65/100\n",
      "732/732 [==============================] - 5s 7ms/step - loss: 0.0294 - accuracy: 0.9872 - val_loss: 0.0300 - val_accuracy: 0.9868\n",
      "Epoch 66/100\n",
      "732/732 [==============================] - 5s 7ms/step - loss: 0.0291 - accuracy: 0.9873 - val_loss: 0.0292 - val_accuracy: 0.9877\n",
      "Epoch 67/100\n",
      "732/732 [==============================] - 5s 7ms/step - loss: 0.0293 - accuracy: 0.9873 - val_loss: 0.0278 - val_accuracy: 0.9878\n",
      "Epoch 68/100\n",
      "732/732 [==============================] - 6s 8ms/step - loss: 0.0293 - accuracy: 0.9873 - val_loss: 0.0281 - val_accuracy: 0.9880\n",
      "Epoch 69/100\n",
      "732/732 [==============================] - 5s 7ms/step - loss: 0.0290 - accuracy: 0.9873 - val_loss: 0.0284 - val_accuracy: 0.9881\n",
      "Epoch 70/100\n",
      "732/732 [==============================] - 5s 7ms/step - loss: 0.0291 - accuracy: 0.9872 - val_loss: 0.0276 - val_accuracy: 0.9881\n",
      "Epoch 71/100\n",
      "732/732 [==============================] - 5s 7ms/step - loss: 0.0291 - accuracy: 0.9872 - val_loss: 0.0286 - val_accuracy: 0.9876\n",
      "Epoch 72/100\n",
      "732/732 [==============================] - 5s 7ms/step - loss: 0.0288 - accuracy: 0.9875 - val_loss: 0.0290 - val_accuracy: 0.9882\n",
      "Epoch 73/100\n",
      "732/732 [==============================] - 7s 10ms/step - loss: 0.0292 - accuracy: 0.9874 - val_loss: 0.0279 - val_accuracy: 0.9879\n",
      "Epoch 74/100\n",
      "732/732 [==============================] - 6s 8ms/step - loss: 0.0290 - accuracy: 0.9873 - val_loss: 0.0277 - val_accuracy: 0.9880\n",
      "Epoch 75/100\n",
      "732/732 [==============================] - 6s 8ms/step - loss: 0.0288 - accuracy: 0.9874 - val_loss: 0.0279 - val_accuracy: 0.9880\n",
      "Epoch 76/100\n",
      "732/732 [==============================] - 7s 9ms/step - loss: 0.0286 - accuracy: 0.9875 - val_loss: 0.0333 - val_accuracy: 0.9862\n",
      "Epoch 77/100\n",
      "732/732 [==============================] - 5s 7ms/step - loss: 0.0288 - accuracy: 0.9873 - val_loss: 0.0274 - val_accuracy: 0.9881\n",
      "Epoch 78/100\n",
      "732/732 [==============================] - 5s 7ms/step - loss: 0.0285 - accuracy: 0.9878 - val_loss: 0.0278 - val_accuracy: 0.9884\n",
      "Epoch 79/100\n",
      "732/732 [==============================] - 6s 8ms/step - loss: 0.0289 - accuracy: 0.9875 - val_loss: 0.0275 - val_accuracy: 0.9878\n",
      "Epoch 80/100\n",
      "732/732 [==============================] - 5s 7ms/step - loss: 0.0284 - accuracy: 0.9876 - val_loss: 0.0280 - val_accuracy: 0.9880\n",
      "Epoch 81/100\n",
      "732/732 [==============================] - 5s 7ms/step - loss: 0.0283 - accuracy: 0.9876 - val_loss: 0.0280 - val_accuracy: 0.9879\n",
      "Epoch 82/100\n",
      "732/732 [==============================] - 6s 8ms/step - loss: 0.0284 - accuracy: 0.9878 - val_loss: 0.0288 - val_accuracy: 0.9881\n",
      "Epoch 83/100\n",
      "732/732 [==============================] - 6s 8ms/step - loss: 0.0284 - accuracy: 0.9876 - val_loss: 0.0295 - val_accuracy: 0.9878\n",
      "Epoch 84/100\n",
      "732/732 [==============================] - 5s 7ms/step - loss: 0.0284 - accuracy: 0.9877 - val_loss: 0.0328 - val_accuracy: 0.9779\n",
      "Epoch 85/100\n",
      "732/732 [==============================] - 5s 7ms/step - loss: 0.0284 - accuracy: 0.9877 - val_loss: 0.0299 - val_accuracy: 0.9864\n",
      "Epoch 86/100\n",
      "732/732 [==============================] - 5s 7ms/step - loss: 0.0282 - accuracy: 0.9877 - val_loss: 0.0289 - val_accuracy: 0.9878\n",
      "Epoch 87/100\n",
      "732/732 [==============================] - 5s 7ms/step - loss: 0.0280 - accuracy: 0.9878 - val_loss: 0.0364 - val_accuracy: 0.9790\n",
      "Epoch 88/100\n",
      "732/732 [==============================] - 6s 8ms/step - loss: 0.0280 - accuracy: 0.9879 - val_loss: 0.0340 - val_accuracy: 0.9776\n",
      "Epoch 89/100\n",
      "732/732 [==============================] - 6s 9ms/step - loss: 0.0282 - accuracy: 0.9878 - val_loss: 0.0271 - val_accuracy: 0.9884\n",
      "Epoch 90/100\n",
      "732/732 [==============================] - 7s 10ms/step - loss: 0.0280 - accuracy: 0.9879 - val_loss: 0.0270 - val_accuracy: 0.9885\n",
      "Epoch 91/100\n",
      "732/732 [==============================] - 6s 8ms/step - loss: 0.0281 - accuracy: 0.9878 - val_loss: 0.0293 - val_accuracy: 0.9878\n",
      "Epoch 92/100\n",
      "732/732 [==============================] - 6s 9ms/step - loss: 0.0279 - accuracy: 0.9880 - val_loss: 0.0281 - val_accuracy: 0.9879\n",
      "Epoch 93/100\n",
      "732/732 [==============================] - 6s 9ms/step - loss: 0.0280 - accuracy: 0.9877 - val_loss: 0.0280 - val_accuracy: 0.9884\n",
      "Epoch 94/100\n",
      "732/732 [==============================] - 6s 9ms/step - loss: 0.0281 - accuracy: 0.9878 - val_loss: 0.0267 - val_accuracy: 0.9881\n",
      "Epoch 95/100\n",
      "732/732 [==============================] - 6s 9ms/step - loss: 0.0278 - accuracy: 0.9875 - val_loss: 0.0261 - val_accuracy: 0.9884\n",
      "Epoch 96/100\n",
      "732/732 [==============================] - 6s 9ms/step - loss: 0.0279 - accuracy: 0.9879 - val_loss: 0.0263 - val_accuracy: 0.9887\n",
      "Epoch 97/100\n",
      "732/732 [==============================] - 6s 9ms/step - loss: 0.0279 - accuracy: 0.9879 - val_loss: 0.0266 - val_accuracy: 0.9885\n",
      "Epoch 98/100\n",
      "732/732 [==============================] - 6s 9ms/step - loss: 0.0280 - accuracy: 0.9877 - val_loss: 0.0264 - val_accuracy: 0.9885\n",
      "Epoch 99/100\n",
      "732/732 [==============================] - 7s 10ms/step - loss: 0.0281 - accuracy: 0.9878 - val_loss: 0.0290 - val_accuracy: 0.9878\n",
      "Epoch 100/100\n",
      "732/732 [==============================] - 6s 9ms/step - loss: 0.0280 - accuracy: 0.9877 - val_loss: 0.0276 - val_accuracy: 0.9885\n"
     ]
    },
    {
     "data": {
      "text/plain": [
       "<keras.callbacks.History at 0x46a35490>"
      ]
     },
     "execution_count": 26,
     "metadata": {},
     "output_type": "execute_result"
    }
   ],
   "source": [
    "# Train model\n",
    "Train_model = d_model.fit(x_trainsele_fs, y_train, validation_data=(x_valsele_fs, y_val),batch_size=250, epochs=100)\n",
    "Train_model"
   ]
  },
  {
   "cell_type": "code",
   "execution_count": 27,
   "metadata": {
    "scrolled": true
   },
   "outputs": [
    {
     "name": "stdout",
     "output_type": "stream",
     "text": [
      "715/715 [==============================] - 1s 2ms/step\n"
     ]
    },
    {
     "data": {
      "text/html": [
       "<div>\n",
       "<style scoped>\n",
       "    .dataframe tbody tr th:only-of-type {\n",
       "        vertical-align: middle;\n",
       "    }\n",
       "\n",
       "    .dataframe tbody tr th {\n",
       "        vertical-align: top;\n",
       "    }\n",
       "\n",
       "    .dataframe thead th {\n",
       "        text-align: right;\n",
       "    }\n",
       "</style>\n",
       "<table border=\"1\" class=\"dataframe\">\n",
       "  <thead>\n",
       "    <tr style=\"text-align: right;\">\n",
       "      <th></th>\n",
       "      <th>precision</th>\n",
       "      <th>recall</th>\n",
       "      <th>f1-score</th>\n",
       "      <th>support</th>\n",
       "    </tr>\n",
       "  </thead>\n",
       "  <tbody>\n",
       "    <tr>\n",
       "      <th>0</th>\n",
       "      <td>0.999479</td>\n",
       "      <td>0.986562</td>\n",
       "      <td>0.992978</td>\n",
       "      <td>17488.000000</td>\n",
       "    </tr>\n",
       "    <tr>\n",
       "      <th>1</th>\n",
       "      <td>0.958028</td>\n",
       "      <td>0.998325</td>\n",
       "      <td>0.977762</td>\n",
       "      <td>5373.000000</td>\n",
       "    </tr>\n",
       "    <tr>\n",
       "      <th>accuracy</th>\n",
       "      <td>0.989327</td>\n",
       "      <td>0.989327</td>\n",
       "      <td>0.989327</td>\n",
       "      <td>0.989327</td>\n",
       "    </tr>\n",
       "    <tr>\n",
       "      <th>macro avg</th>\n",
       "      <td>0.978753</td>\n",
       "      <td>0.992444</td>\n",
       "      <td>0.985370</td>\n",
       "      <td>22861.000000</td>\n",
       "    </tr>\n",
       "    <tr>\n",
       "      <th>weighted avg</th>\n",
       "      <td>0.989737</td>\n",
       "      <td>0.989327</td>\n",
       "      <td>0.989402</td>\n",
       "      <td>22861.000000</td>\n",
       "    </tr>\n",
       "  </tbody>\n",
       "</table>\n",
       "</div>"
      ],
      "text/plain": [
       "              precision    recall  f1-score       support\n",
       "0              0.999479  0.986562  0.992978  17488.000000\n",
       "1              0.958028  0.998325  0.977762   5373.000000\n",
       "accuracy       0.989327  0.989327  0.989327      0.989327\n",
       "macro avg      0.978753  0.992444  0.985370  22861.000000\n",
       "weighted avg   0.989737  0.989327  0.989402  22861.000000"
      ]
     },
     "execution_count": 27,
     "metadata": {},
     "output_type": "execute_result"
    }
   ],
   "source": [
    "DNN_Model = d_model.predict(x_testsele_fs)\n",
    "DNNM_Analysis = pd.DataFrame(classification_report(y_test,DNN_Model, output_dict=True)).transpose()\n",
    "DNNM_Analysis"
   ]
  },
  {
   "cell_type": "code",
   "execution_count": 28,
   "metadata": {},
   "outputs": [
    {
     "name": "stdout",
     "output_type": "stream",
     "text": [
      "               Prediction Benign  Prediction Bot\n",
      "Actual Benign              17253             235\n",
      "Actual Bot                     9            5364\n",
      "----------------------------------------------------------------------\n"
     ]
    }
   ],
   "source": [
    "Confusion_matxmlp=pd.DataFrame(confusion_matrix(y_test,DNN_Model),index=[\"Actual Benign\",\"Actual Bot\"],\n",
    "                               columns=(\"Prediction Benign\", \"Prediction Bot\"))\n",
    "print(Confusion_matxmlp)\n",
    "print('----------------------------------------------------------------------')"
   ]
  },
  {
   "cell_type": "code",
   "execution_count": 29,
   "metadata": {
    "scrolled": true
   },
   "outputs": [
    {
     "name": "stdout",
     "output_type": "stream",
     "text": [
      "Accuracy of the Model= 98.93 \n",
      "----------------------------------------------------------------------\n",
      "----------------------------------------------------------------------\n"
     ]
    }
   ],
   "source": [
    "Acc_statemlp=accuracy_score(y_test,DNN_Model)\n",
    "print('Accuracy of the Model= %.2f '%(Acc_statemlp*100))\n",
    "print('----------------------------------------------------------------------')\n",
    "print('----------------------------------------------------------------------')"
   ]
  },
  {
   "cell_type": "code",
   "execution_count": 30,
   "metadata": {},
   "outputs": [
    {
     "name": "stdout",
     "output_type": "stream",
     "text": [
      "TP:  17253  FP:  9  FN:  235  TN:  5364\n",
      "TP+FP (total):  17488\n",
      "TN+FN (total):  5373\n",
      "True Positive Rate:  0.9865622140896615\n",
      "True Negative Rate:  0.998324958123953\n",
      "False Positive Rate:  0.0016750418760469012\n",
      "False Negative Rate:  0.013437785910338517\n"
     ]
    }
   ],
   "source": [
    "TP,FN,FP,TN=confusion_matrix(list(y_test),list(DNN_Model),labels=[0,1]).ravel()\n",
    "print('TP: ',TP,' FP: ',FP,' FN: ',FN, ' TN: ',TN)\n",
    "TN_FP=FP+TN\n",
    "TP_FN=FN+TP\n",
    "print('TP+FP (total): ',TP_FN)\n",
    "print('TN+FN (total): ',TN_FP)\n",
    "print('True Positive Rate: ',TP/TP_FN)\n",
    "print('True Negative Rate: ',TN/TN_FP)\n",
    "print('False Positive Rate: ',FP/TN_FP)\n",
    "print('False Negative Rate: ',FN/TP_FN)"
   ]
  },
  {
   "cell_type": "code",
   "execution_count": 59,
   "metadata": {
    "scrolled": false
   },
   "outputs": [
    {
     "name": "stdout",
     "output_type": "stream",
     "text": [
      "715/715 [==============================] - 1s 2ms/step\n"
     ]
    },
    {
     "data": {
      "image/png": "[encoded data removed]",
      "text/plain": [
       "<Figure size 432x288 with 1 Axes>"
      ]
     },
     "metadata": {
      "needs_background": "light"
     },
     "output_type": "display_data"
    }
   ],
   "source": [
    "y_predlogreg_proba = d_model.predict_proba(x_testsele_fs)[::,1]\n",
    "fprlogreg, tprlogreg, _ = roc_curve(y_test,y_predlogreg_proba)\n",
    "auclogreg = roc_auc_score(y_test, y_predlogreg_proba)\n",
    "plt.plot(fprlogreg, tprlogreg, label=\"AUC: \"+str(auclogreg), color=\"navy\")\n",
    "plt.plot([0,1],[0,1],color=\"red\")\n",
    "plt.xlim([0.00,1.01])\n",
    "plt.ylim([0.00,1.01])\n",
    "plt.xlabel(\"Specificity\")\n",
    "plt.ylabel(\"Sensitivity\")\n",
    "plt.legend(loc=4)\n",
    "plt.title('The Model Acuracy Indicator')\n",
    "plt.show()"
   ]
  },
  {
   "cell_type": "markdown",
   "metadata": {},
   "source": [
    "## Related Work Implementation (DOI: https://doi.org/10.1007/978-3-030-03302-6_3)\n",
    "Feed-Forward Backpropagation for Botnet Detection"
   ]
  },
  {
   "cell_type": "code",
   "execution_count": 60,
   "metadata": {},
   "outputs": [
    {
     "name": "stdout",
     "output_type": "stream",
     "text": [
      "               Prediction Benign  Prediction Bot\n",
      "Actual Benign              17235             253\n",
      "Actual Bot                    10            5363\n",
      "----------------------------------------------------------------------\n",
      "Accuracy of the Model= 98.85 \n",
      "----------------------------------------------------------------------\n"
     ]
    },
    {
     "name": "stderr",
     "output_type": "stream",
     "text": [
      "C:\\DOSTY\\Machine_learning\\lib\\site-packages\\sklearn\\neural_network\\_multilayer_perceptron.py:582: ConvergenceWarning:\n",
      "\n",
      "Stochastic Optimizer: Maximum iterations (120) reached and the optimization hasn't converged yet.\n",
      "\n"
     ]
    }
   ],
   "source": [
    "#Base paper (Feed-Forward Backpropagation for Botnet Detection) \n",
    "#Implimentation wich is implimented with 10 hidden layers \n",
    "from sklearn.neural_network import MLPClassifier\n",
    "MLP_model = MLPClassifier(random_state=42, max_iter=120,hidden_layer_sizes=(10,10,10))\n",
    "MLP_model = MLP_model.fit(x_trainsele_fs, y_train)\n",
    "pred = MLP_model.predict(x_testsele_fs)\n",
    "Confusion_matxmlp=pd.DataFrame(confusion_matrix(y_test,pred),index=[\"Actual Benign\",\"Actual Bot\"],\n",
    "                               columns=(\"Prediction Benign\", \"Prediction Bot\"))\n",
    "print(Confusion_matxmlp)\n",
    "print('----------------------------------------------------------------------')\n",
    "Acc_statemlp=accuracy_score(y_test,pred)\n",
    "print('Accuracy of the Model= %.2f '%(Acc_statemlp*100))\n",
    "print('----------------------------------------------------------------------')"
   ]
  },
  {
   "cell_type": "code",
   "execution_count": 61,
   "metadata": {},
   "outputs": [
    {
     "name": "stdout",
     "output_type": "stream",
     "text": [
      "TP:  17235  FP:  10  FN:  253  TN:  5363\n",
      "TP+FP (total):  5373\n",
      "TN+FN (total):  17488\n",
      "True Positive Rate:  0.9855329368709973\n",
      "True Negative Rate:  0.9981388423599479\n",
      "False Positive Rate:  0.0018611576400521124\n",
      "False Negative Rate:  0.014467063129002745\n"
     ]
    }
   ],
   "source": [
    "# performance Analysis of Base Paper\n",
    "TP,FN,FP,TN=confusion_matrix(list(y_test),list(pred),labels=[0,1]).ravel()\n",
    "print('TP: ',TP,' FP: ',FP,' FN: ',FN, ' TN: ',TN)\n",
    "TN_FP=FP+TN\n",
    "TP_FN=FN+TP\n",
    "print('TP+FP (total): ',TN_FP)\n",
    "print('TN+FN (total): ',TP_FN)\n",
    "print('True Positive Rate: ',TP/TP_FN)\n",
    "print('True Negative Rate: ',TN/TN_FP)\n",
    "print('False Positive Rate: ',FP/TN_FP)\n",
    "print('False Negative Rate: ',FN/TP_FN)"
   ]
  },
  {
   "cell_type": "markdown",
   "metadata": {},
   "source": [
    "## Related work Implementation (DOI: 10.1109/ICCWS48432.2020.9292395)  \n",
    "Robust Early Stage Botnet Detection using Machine Learning"
   ]
  },
  {
   "cell_type": "code",
   "execution_count": 62,
   "metadata": {},
   "outputs": [
    {
     "name": "stdout",
     "output_type": "stream",
     "text": [
      "               Prediction Benign  Prediction Bot\n",
      "Actual Benign              17142             346\n",
      "Actual Bot                    26            5347\n",
      "----------------------------------------------------------------------\n",
      "Accuracy of the Model= 98.37 \n",
      "----------------------------------------------------------------------\n",
      "TP:  17142  FP:  26  FN:  346  TN:  5347\n",
      "TP+FP (total):  5373\n",
      "TN+FN (total):  17488\n",
      "True Positive Rate:  0.9802150045745655\n",
      "True Negative Rate:  0.9951609901358645\n",
      "False Positive Rate:  0.004839009864135492\n",
      "False Negative Rate:  0.019784995425434583\n"
     ]
    }
   ],
   "source": [
    "# Second base Pepar(Robust Early Stage Botnet Detection using Machine Learning)\n",
    "from sklearn.ensemble import RandomForestClassifier\n",
    "clf = RandomForestClassifier()\n",
    "x_testsele_fs_=x_testsele_fs[:,:38]\n",
    "x_trainsele_fs_=x_trainsele_fs[:,:38]\n",
    "clf.fit(x_trainsele_fs_, y_train)\n",
    "y_pred_proba = clf.predict(x_testsele_fs_)\n",
    "Confusion_matxmlp=pd.DataFrame(confusion_matrix(y_test,y_pred_proba),index=[\"Actual Benign\",\"Actual Bot\"],\n",
    "                               columns=(\"Prediction Benign\", \"Prediction Bot\"))\n",
    "print(Confusion_matxmlp)\n",
    "print('----------------------------------------------------------------------')\n",
    "Acc_statemlp=accuracy_score(y_test,y_pred_proba)\n",
    "print('Accuracy of the Model= %.2f '%(Acc_statemlp*100))\n",
    "print('----------------------------------------------------------------------')\n",
    "# performance Analysis of Base Paper\n",
    "TP,FN,FP,TN=confusion_matrix(list(y_test),list(y_pred_proba),labels=[0,1]).ravel()\n",
    "print('TP: ',TP,' FP: ',FP,' FN: ',FN, ' TN: ',TN)\n",
    "TN_FP=FP+TN\n",
    "TP_FN=FN+TP\n",
    "print('TP+FP (total): ',TN_FP)\n",
    "print('TN+FN (total): ',TP_FN)\n",
    "print('True Positive Rate: ',TP/TP_FN)\n",
    "print('True Negative Rate: ',TN/TN_FP)\n",
    "print('False Positive Rate: ',FP/TN_FP)\n",
    "print('False Negative Rate: ',FN/TP_FN)"
   ]
  },
  {
   "cell_type": "markdown",
   "metadata": {},
   "source": [
    "## Model Validation \n",
    "Methods that Validats the current work (thi model) with prime works (MLP and RF)"
   ]
  },
  {
   "cell_type": "code",
   "execution_count": 63,
   "metadata": {
    "scrolled": true
   },
   "outputs": [
    {
     "name": "stdout",
     "output_type": "stream",
     "text": [
      "MLP\n",
      "Accuracy of the Model= 98.37 \n",
      "\n",
      "RF\n",
      "Accuracy of the Model= 98.85 \n",
      "\n",
      "715/715 [==============================] - 1s 2ms/step\n",
      "Current_work(DNN)\n",
      "Accuracy of the Model= 99.10 \n",
      "\n"
     ]
    }
   ],
   "source": [
    "    if(model==clf_):\n",
    "        mm=model.predict(x_testsele_fs_)\n",
    "        DNNM_Analysis = accuracy_score(y_test,mm)\n",
    "    else:\n",
    "        mm=model.predict(x_testsele_fs)\n",
    "        DNNM_Analysis = accuracy_score(y_test,mm)\n",
    "    names.append(name)\n",
    "    results.append(DNNM_Analysis*100)\n",
    "    print(name)\n",
    "    print('Accuracy of the Model= %.2f '%(DNNM_Analysis*100))\n",
    "    print()"
   ]
  },
  {
   "cell_type": "code",
   "execution_count": 156,
   "metadata": {},
   "outputs": [
    {
     "data": {
      "text/html": [
       "        <script type=\"text/javascript\">\n",
       "        window.PlotlyConfig = {MathJaxConfig: 'local'};\n",
       "        if (window.MathJax && window.MathJax.Hub && window.MathJax.Hub.Config) {window.MathJax.Hub.Config({SVG: {font: \"STIX-Web\"}});}\n",
       "        if (typeof require !== 'undefined') {\n",
       "        require.undef(\"plotly\");\n",
       "        requirejs.config({\n",
       "            paths: {\n",
       "                'plotly': ['https://cdn.plot.ly/plotly-2.12.1.min']\n",
       "            }\n",
       "        });\n",
       "        require(['plotly'], function(Plotly) {\n",
       "            window._Plotly = Plotly;\n",
       "        });\n",
       "        }\n",
       "        </script>\n",
       "        "
      ]
     },
     "metadata": {},
     "output_type": "display_data"
    },
    {
     "data": {
      "application/vnd.plotly.v1+json": {
       "config": {
        "linkText": "Export to plot.ly",
        "plotlyServerURL": "https://plot.ly",
        "showLink": true
       },
       "data": [
        {
         "marker": {
          "color": "rgba(55, 128, 191, 0.6)",
          "line": {
           "color": "rgba(55, 128, 191, 1.0)",
           "width": 1
          }
         },
         "name": "mresult",
         "orientation": "v",
         "text": "",
         "type": "bar",
         "x": [
          "MLP",
          "RF",
          "Current_work(DNN)"
         ],
         "y": [
          98.86269192073837,
          98.2459210008311,
          99.12952189318052
         ]
        }
       ],
       "layout": {
        "bargap": 0.2,
        "height": 450,
        "legend": {
         "bgcolor": "#F2F3F7",
         "font": {
          "color": "#505050"
         }
        },
        "paper_bgcolor": "#F2F3F7",
        "plot_bgcolor": "#F2F3F7",
        "template": {
         "data": {
          "bar": [
           {
            "error_x": {
             "color": "#2a3f5f"
            },
            "error_y": {
             "color": "#2a3f5f"
            },
            "marker": {
             "line": {
              "color": "#E5ECF6",
              "width": 0.5
             },
             "pattern": {
              "fillmode": "overlay",
              "size": 10,
              "solidity": 0.2
             }
            },
            "type": "bar"
           }
          ],
          "barpolar": [
           {
            "marker": {
             "line": {
              "color": "#E5ECF6",
              "width": 0.5
             },
             "pattern": {
              "fillmode": "overlay",
              "size": 10,
              "solidity": 0.2
             }
            },
            "type": "barpolar"
           }
          ],
          "carpet": [
           {
            "aaxis": {
             "endlinecolor": "#2a3f5f",
             "gridcolor": "white",
             "linecolor": "white",
             "minorgridcolor": "white",
             "startlinecolor": "#2a3f5f"
            },
            "baxis": {
             "endlinecolor": "#2a3f5f",
             "gridcolor": "white",
             "linecolor": "white",
             "minorgridcolor": "white",
             "startlinecolor": "#2a3f5f"
            },
            "type": "carpet"
           }
          ],
          "choropleth": [
           {
            "colorbar": {
             "outlinewidth": 0,
             "ticks": ""
            },
            "type": "choropleth"
           }
          ],
          "contour": [
           {
            "colorbar": {
             "outlinewidth": 0,
             "ticks": ""
            },
            "colorscale": [
             [
              0,
              "#0d0887"
             ],
             [
              0.1111111111111111,
              "#46039f"
             ],
             [
              0.2222222222222222,
              "#7201a8"
             ],
             [
              0.3333333333333333,
              "#9c179e"
             ],
             [
              0.4444444444444444,
              "#bd3786"
             ],
             [
              0.5555555555555556,
              "#d8576b"
             ],
             [
              0.6666666666666666,
              "#ed7953"
             ],
             [
              0.7777777777777778,
              "#fb9f3a"
             ],
             [
              0.8888888888888888,
              "#fdca26"
             ],
             [
              1,
              "#f0f921"
             ]
            ],
            "type": "contour"
           }
          ],
          "contourcarpet": [
           {
            "colorbar": {
             "outlinewidth": 0,
             "ticks": ""
            },
            "type": "contourcarpet"
           }
          ],
          "heatmap": [
           {
            "colorbar": {
             "outlinewidth": 0,
             "ticks": ""
            },
            "colorscale": [
             [
              0,
              "#0d0887"
             ],
             [
              0.1111111111111111,
              "#46039f"
             ],
             [
              0.2222222222222222,
              "#7201a8"
             ],
             [
              0.3333333333333333,
              "#9c179e"
             ],
             [
              0.4444444444444444,
              "#bd3786"
             ],
             [
              0.5555555555555556,
              "#d8576b"
             ],
             [
              0.6666666666666666,
              "#ed7953"
             ],
             [
              0.7777777777777778,
              "#fb9f3a"
             ],
             [
              0.8888888888888888,
              "#fdca26"
             ],
             [
              1,
              "#f0f921"
             ]
            ],
            "type": "heatmap"
           }
          ],
          "heatmapgl": [
           {
            "colorbar": {
             "outlinewidth": 0,
             "ticks": ""
            },
            "colorscale": [
             [
              0,
              "#0d0887"
             ],
             [
              0.1111111111111111,
              "#46039f"
             ],
             [
              0.2222222222222222,
              "#7201a8"
             ],
             [
              0.3333333333333333,
              "#9c179e"
             ],
             [
              0.4444444444444444,
              "#bd3786"
             ],
             [
              0.5555555555555556,
              "#d8576b"
             ],
             [
              0.6666666666666666,
              "#ed7953"
             ],
             [
              0.7777777777777778,
              "#fb9f3a"
             ],
             [
              0.8888888888888888,
              "#fdca26"
             ],
             [
              1,
              "#f0f921"
             ]
            ],
            "type": "heatmapgl"
           }
          ],
          "histogram": [
           {
            "marker": {
             "pattern": {
              "fillmode": "overlay",
              "size": 10,
              "solidity": 0.2
             }
            },
            "type": "histogram"
           }
          ],
          "histogram2d": [
           {
            "colorbar": {
             "outlinewidth": 0,
             "ticks": ""
            },
            "colorscale": [
             [
              0,
              "#0d0887"
             ],
             [
              0.1111111111111111,
              "#46039f"
             ],
             [
              0.2222222222222222,
              "#7201a8"
             ],
             [
              0.3333333333333333,
              "#9c179e"
             ],
             [
              0.4444444444444444,
              "#bd3786"
             ],
             [
              0.5555555555555556,
              "#d8576b"
             ],
             [
              0.6666666666666666,
              "#ed7953"
             ],
             [
              0.7777777777777778,
              "#fb9f3a"
             ],
             [
              0.8888888888888888,
              "#fdca26"
             ],
             [
              1,
              "#f0f921"
             ]
            ],
            "type": "histogram2d"
           }
          ],
          "histogram2dcontour": [
           {
            "colorbar": {
             "outlinewidth": 0,
             "ticks": ""
            },
            "colorscale": [
             [
              0,
              "#0d0887"
             ],
             [
              0.1111111111111111,
              "#46039f"
             ],
             [
              0.2222222222222222,
              "#7201a8"
             ],
             [
              0.3333333333333333,
              "#9c179e"
             ],
             [
              0.4444444444444444,
              "#bd3786"
             ],
             [
              0.5555555555555556,
              "#d8576b"
             ],
             [
              0.6666666666666666,
              "#ed7953"
             ],
             [
              0.7777777777777778,
              "#fb9f3a"
             ],
             [
              0.8888888888888888,
              "#fdca26"
             ],
             [
              1,
              "#f0f921"
             ]
            ],
            "type": "histogram2dcontour"
           }
          ],
          "mesh3d": [
           {
            "colorbar": {
             "outlinewidth": 0,
             "ticks": ""
            },
            "type": "mesh3d"
           }
          ],
          "parcoords": [
           {
            "line": {
             "colorbar": {
              "outlinewidth": 0,
              "ticks": ""
             }
            },
            "type": "parcoords"
           }
          ],
          "pie": [
           {
            "automargin": true,
            "type": "pie"
           }
          ],
          "scatter": [
           {
            "fillpattern": {
             "fillmode": "overlay",
             "size": 10,
             "solidity": 0.2
            },
            "type": "scatter"
           }
          ],
          "scatter3d": [
           {
            "line": {
             "colorbar": {
              "outlinewidth": 0,
              "ticks": ""
             }
            },
            "marker": {
             "colorbar": {
              "outlinewidth": 0,
              "ticks": ""
             }
            },
            "type": "scatter3d"
           }
          ],
          "scattercarpet": [
           {
            "marker": {
             "colorbar": {
              "outlinewidth": 0,
              "ticks": ""
             }
            },
            "type": "scattercarpet"
           }
          ],
          "scattergeo": [
           {
            "marker": {
             "colorbar": {
              "outlinewidth": 0,
              "ticks": ""
             }
            },
            "type": "scattergeo"
           }
          ],
          "scattergl": [
           {
            "marker": {
             "colorbar": {
              "outlinewidth": 0,
              "ticks": ""
             }
            },
            "type": "scattergl"
           }
          ],
          "scattermapbox": [
           {
            "marker": {
             "colorbar": {
              "outlinewidth": 0,
              "ticks": ""
             }
            },
            "type": "scattermapbox"
           }
          ],
          "scatterpolar": [
           {
            "marker": {
             "colorbar": {
              "outlinewidth": 0,
              "ticks": ""
             }
            },
            "type": "scatterpolar"
           }
          ],
          "scatterpolargl": [
           {
            "marker": {
             "colorbar": {
              "outlinewidth": 0,
              "ticks": ""
             }
            },
            "type": "scatterpolargl"
           }
          ],
          "scatterternary": [
           {
            "marker": {
             "colorbar": {
              "outlinewidth": 0,
              "ticks": ""
             }
            },
            "type": "scatterternary"
           }
          ],
          "surface": [
           {
            "colorbar": {
             "outlinewidth": 0,
             "ticks": ""
            },
            "colorscale": [
             [
              0,
              "#0d0887"
             ],
             [
              0.1111111111111111,
              "#46039f"
             ],
             [
              0.2222222222222222,
              "#7201a8"
             ],
             [
              0.3333333333333333,
              "#9c179e"
             ],
             [
              0.4444444444444444,
              "#bd3786"
             ],
             [
              0.5555555555555556,
              "#d8576b"
             ],
             [
              0.6666666666666666,
              "#ed7953"
             ],
             [
              0.7777777777777778,
              "#fb9f3a"
             ],
             [
              0.8888888888888888,
              "#fdca26"
             ],
             [
              1,
              "#f0f921"
             ]
            ],
            "type": "surface"
           }
          ],
          "table": [
           {
            "cells": {
             "fill": {
              "color": "#EBF0F8"
             },
             "line": {
              "color": "white"
             }
            },
            "header": {
             "fill": {
              "color": "#C8D4E3"
             },
             "line": {
              "color": "white"
             }
            },
            "type": "table"
           }
          ]
         },
         "layout": {
          "annotationdefaults": {
           "arrowcolor": "#2a3f5f",
           "arrowhead": 0,
           "arrowwidth": 1
          },
          "autotypenumbers": "strict",
          "coloraxis": {
           "colorbar": {
            "outlinewidth": 0,
            "ticks": ""
           }
          },
          "colorscale": {
           "diverging": [
            [
             0,
             "#8e0152"
            ],
            [
             0.1,
             "#c51b7d"
            ],
            [
             0.2,
             "#de77ae"
            ],
            [
             0.3,
             "#f1b6da"
            ],
            [
             0.4,
             "#fde0ef"
            ],
            [
             0.5,
             "#f7f7f7"
            ],
            [
             0.6,
             "#e6f5d0"
            ],
            [
             0.7,
             "#b8e186"
            ],
            [
             0.8,
             "#7fbc41"
            ],
            [
             0.9,
             "#4d9221"
            ],
            [
             1,
             "#276419"
            ]
           ],
           "sequential": [
            [
             0,
             "#0d0887"
            ],
            [
             0.1111111111111111,
             "#46039f"
            ],
            [
             0.2222222222222222,
             "#7201a8"
            ],
            [
             0.3333333333333333,
             "#9c179e"
            ],
            [
             0.4444444444444444,
             "#bd3786"
            ],
            [
             0.5555555555555556,
             "#d8576b"
            ],
            [
             0.6666666666666666,
             "#ed7953"
            ],
            [
             0.7777777777777778,
             "#fb9f3a"
            ],
            [
             0.8888888888888888,
             "#fdca26"
            ],
            [
             1,
             "#f0f921"
            ]
           ],
           "sequentialminus": [
            [
             0,
             "#0d0887"
            ],
            [
             0.1111111111111111,
             "#46039f"
            ],
            [
             0.2222222222222222,
             "#7201a8"
            ],
            [
             0.3333333333333333,
             "#9c179e"
            ],
            [
             0.4444444444444444,
             "#bd3786"
            ],
            [
             0.5555555555555556,
             "#d8576b"
            ],
            [
             0.6666666666666666,
             "#ed7953"
            ],
            [
             0.7777777777777778,
             "#fb9f3a"
            ],
            [
             0.8888888888888888,
             "#fdca26"
            ],
            [
             1,
             "#f0f921"
            ]
           ]
          },
          "colorway": [
           "#636efa",
           "#EF553B",
           "#00cc96",
           "#ab63fa",
           "#FFA15A",
           "#19d3f3",
           "#FF6692",
           "#B6E880",
           "#FF97FF",
           "#FECB52"
          ],
          "font": {
           "color": "#2a3f5f"
          },
          "geo": {
           "bgcolor": "white",
           "lakecolor": "white",
           "landcolor": "#E5ECF6",
           "showlakes": true,
           "showland": true,
           "subunitcolor": "white"
          },
          "hoverlabel": {
           "align": "left"
          },
          "hovermode": "closest",
          "mapbox": {
           "style": "light"
          },
          "paper_bgcolor": "white",
          "plot_bgcolor": "#E5ECF6",
          "polar": {
           "angularaxis": {
            "gridcolor": "white",
            "linecolor": "white",
            "ticks": ""
           },
           "bgcolor": "#E5ECF6",
           "radialaxis": {
            "gridcolor": "white",
            "linecolor": "white",
            "ticks": ""
           }
          },
          "scene": {
           "xaxis": {
            "backgroundcolor": "#E5ECF6",
            "gridcolor": "white",
            "gridwidth": 2,
            "linecolor": "white",
            "showbackground": true,
            "ticks": "",
            "zerolinecolor": "white"
           },
           "yaxis": {
            "backgroundcolor": "#E5ECF6",
            "gridcolor": "white",
            "gridwidth": 2,
            "linecolor": "white",
            "showbackground": true,
            "ticks": "",
            "zerolinecolor": "white"
           },
           "zaxis": {
            "backgroundcolor": "#E5ECF6",
            "gridcolor": "white",
            "gridwidth": 2,
            "linecolor": "white",
            "showbackground": true,
            "ticks": "",
            "zerolinecolor": "white"
           }
          },
          "shapedefaults": {
           "line": {
            "color": "#2a3f5f"
           }
          },
          "ternary": {
           "aaxis": {
            "gridcolor": "white",
            "linecolor": "white",
            "ticks": ""
           },
           "baxis": {
            "gridcolor": "white",
            "linecolor": "white",
            "ticks": ""
           },
           "bgcolor": "#E5ECF6",
           "caxis": {
            "gridcolor": "white",
            "linecolor": "white",
            "ticks": ""
           }
          },
          "title": {
           "x": 0.05
          },
          "xaxis": {
           "automargin": true,
           "gridcolor": "white",
           "linecolor": "white",
           "ticks": "",
           "title": {
            "standoff": 15
           },
           "zerolinecolor": "white",
           "zerolinewidth": 2
          },
          "yaxis": {
           "automargin": true,
           "gridcolor": "white",
           "linecolor": "white",
           "ticks": "",
           "title": {
            "standoff": 15
           },
           "zerolinecolor": "white",
           "zerolinewidth": 2
          }
         }
        },
        "title": {
         "font": {
          "color": "#484848"
         },
         "text": "Result Analysis"
        },
        "width": 600,
        "xaxis": {
         "gridcolor": "#E1E5ED",
         "showgrid": true,
         "tickfont": {
          "color": "#505050"
         },
         "title": {
          "font": {
           "color": "#505050"
          },
          "text": "Models"
         },
         "zerolinecolor": "#E1E5ED"
        },
        "yaxis": {
         "gridcolor": "#E1E5ED",
         "showgrid": true,
         "tickfont": {
          "color": "#505050"
         },
         "title": {
          "font": {
           "color": "#505050"
          },
          "text": "Accuracy"
         },
         "zerolinecolor": "#E1E5ED"
        }
       }
      },
      "text/html": [
       "<div>                            <div id=\"7011c50e-62d4-4251-a98d-a18d2a9392ac\" class=\"plotly-graph-div\" style=\"height:450px; width:600px;\"></div>            <script type=\"text/javascript\">                require([\"plotly\"], function(Plotly) {                    window.PLOTLYENV=window.PLOTLYENV || {};\n",
       "                    window.PLOTLYENV.BASE_URL='https://plot.ly';                                    if (document.getElementById(\"7011c50e-62d4-4251-a98d-a18d2a9392ac\")) {                    Plotly.newPlot(                        \"7011c50e-62d4-4251-a98d-a18d2a9392ac\",                        [{\"marker\":{\"color\":\"rgba(55, 128, 191, 0.6)\",\"line\":{\"color\":\"rgba(55, 128, 191, 1.0)\",\"width\":1}},\"name\":\"mresult\",\"orientation\":\"v\",\"text\":\"\",\"x\":[\"MLP\",\"RF\",\"Current_work(DNN)\"],\"y\":[98.86269192073837,98.2459210008311,99.12952189318052],\"type\":\"bar\"}],                        {\"bargap\":0.2,\"height\":450,\"legend\":{\"bgcolor\":\"#F2F3F7\",\"font\":{\"color\":\"#505050\"}},\"paper_bgcolor\":\"#F2F3F7\",\"plot_bgcolor\":\"#F2F3F7\",\"template\":{\"data\":{\"barpolar\":[{\"marker\":{\"line\":{\"color\":\"#E5ECF6\",\"width\":0.5},\"pattern\":{\"fillmode\":\"overlay\",\"size\":10,\"solidity\":0.2}},\"type\":\"barpolar\"}],\"bar\":[{\"error_x\":{\"color\":\"#2a3f5f\"},\"error_y\":{\"color\":\"#2a3f5f\"},\"marker\":{\"line\":{\"color\":\"#E5ECF6\",\"width\":0.5},\"pattern\":{\"fillmode\":\"overlay\",\"size\":10,\"solidity\":0.2}},\"type\":\"bar\"}],\"carpet\":[{\"aaxis\":{\"endlinecolor\":\"#2a3f5f\",\"gridcolor\":\"white\",\"linecolor\":\"white\",\"minorgridcolor\":\"white\",\"startlinecolor\":\"#2a3f5f\"},\"baxis\":{\"endlinecolor\":\"#2a3f5f\",\"gridcolor\":\"white\",\"linecolor\":\"white\",\"minorgridcolor\":\"white\",\"startlinecolor\":\"#2a3f5f\"},\"type\":\"carpet\"}],\"choropleth\":[{\"colorbar\":{\"outlinewidth\":0,\"ticks\":\"\"},\"type\":\"choropleth\"}],\"contourcarpet\":[{\"colorbar\":{\"outlinewidth\":0,\"ticks\":\"\"},\"type\":\"contourcarpet\"}],\"contour\":[{\"colorbar\":{\"outlinewidth\":0,\"ticks\":\"\"},\"colorscale\":[[0.0,\"#0d0887\"],[0.1111111111111111,\"#46039f\"],[0.2222222222222222,\"#7201a8\"],[0.3333333333333333,\"#9c179e\"],[0.4444444444444444,\"#bd3786\"],[0.5555555555555556,\"#d8576b\"],[0.6666666666666666,\"#ed7953\"],[0.7777777777777778,\"#fb9f3a\"],[0.8888888888888888,\"#fdca26\"],[1.0,\"#f0f921\"]],\"type\":\"contour\"}],\"heatmapgl\":[{\"colorbar\":{\"outlinewidth\":0,\"ticks\":\"\"},\"colorscale\":[[0.0,\"#0d0887\"],[0.1111111111111111,\"#46039f\"],[0.2222222222222222,\"#7201a8\"],[0.3333333333333333,\"#9c179e\"],[0.4444444444444444,\"#bd3786\"],[0.5555555555555556,\"#d8576b\"],[0.6666666666666666,\"#ed7953\"],[0.7777777777777778,\"#fb9f3a\"],[0.8888888888888888,\"#fdca26\"],[1.0,\"#f0f921\"]],\"type\":\"heatmapgl\"}],\"heatmap\":[{\"colorbar\":{\"outlinewidth\":0,\"ticks\":\"\"},\"colorscale\":[[0.0,\"#0d0887\"],[0.1111111111111111,\"#46039f\"],[0.2222222222222222,\"#7201a8\"],[0.3333333333333333,\"#9c179e\"],[0.4444444444444444,\"#bd3786\"],[0.5555555555555556,\"#d8576b\"],[0.6666666666666666,\"#ed7953\"],[0.7777777777777778,\"#fb9f3a\"],[0.8888888888888888,\"#fdca26\"],[1.0,\"#f0f921\"]],\"type\":\"heatmap\"}],\"histogram2dcontour\":[{\"colorbar\":{\"outlinewidth\":0,\"ticks\":\"\"},\"colorscale\":[[0.0,\"#0d0887\"],[0.1111111111111111,\"#46039f\"],[0.2222222222222222,\"#7201a8\"],[0.3333333333333333,\"#9c179e\"],[0.4444444444444444,\"#bd3786\"],[0.5555555555555556,\"#d8576b\"],[0.6666666666666666,\"#ed7953\"],[0.7777777777777778,\"#fb9f3a\"],[0.8888888888888888,\"#fdca26\"],[1.0,\"#f0f921\"]],\"type\":\"histogram2dcontour\"}],\"histogram2d\":[{\"colorbar\":{\"outlinewidth\":0,\"ticks\":\"\"},\"colorscale\":[[0.0,\"#0d0887\"],[0.1111111111111111,\"#46039f\"],[0.2222222222222222,\"#7201a8\"],[0.3333333333333333,\"#9c179e\"],[0.4444444444444444,\"#bd3786\"],[0.5555555555555556,\"#d8576b\"],[0.6666666666666666,\"#ed7953\"],[0.7777777777777778,\"#fb9f3a\"],[0.8888888888888888,\"#fdca26\"],[1.0,\"#f0f921\"]],\"type\":\"histogram2d\"}],\"histogram\":[{\"marker\":{\"pattern\":{\"fillmode\":\"overlay\",\"size\":10,\"solidity\":0.2}},\"type\":\"histogram\"}],\"mesh3d\":[{\"colorbar\":{\"outlinewidth\":0,\"ticks\":\"\"},\"type\":\"mesh3d\"}],\"parcoords\":[{\"line\":{\"colorbar\":{\"outlinewidth\":0,\"ticks\":\"\"}},\"type\":\"parcoords\"}],\"pie\":[{\"automargin\":true,\"type\":\"pie\"}],\"scatter3d\":[{\"line\":{\"colorbar\":{\"outlinewidth\":0,\"ticks\":\"\"}},\"marker\":{\"colorbar\":{\"outlinewidth\":0,\"ticks\":\"\"}},\"type\":\"scatter3d\"}],\"scattercarpet\":[{\"marker\":{\"colorbar\":{\"outlinewidth\":0,\"ticks\":\"\"}},\"type\":\"scattercarpet\"}],\"scattergeo\":[{\"marker\":{\"colorbar\":{\"outlinewidth\":0,\"ticks\":\"\"}},\"type\":\"scattergeo\"}],\"scattergl\":[{\"marker\":{\"colorbar\":{\"outlinewidth\":0,\"ticks\":\"\"}},\"type\":\"scattergl\"}],\"scattermapbox\":[{\"marker\":{\"colorbar\":{\"outlinewidth\":0,\"ticks\":\"\"}},\"type\":\"scattermapbox\"}],\"scatterpolargl\":[{\"marker\":{\"colorbar\":{\"outlinewidth\":0,\"ticks\":\"\"}},\"type\":\"scatterpolargl\"}],\"scatterpolar\":[{\"marker\":{\"colorbar\":{\"outlinewidth\":0,\"ticks\":\"\"}},\"type\":\"scatterpolar\"}],\"scatter\":[{\"fillpattern\":{\"fillmode\":\"overlay\",\"size\":10,\"solidity\":0.2},\"type\":\"scatter\"}],\"scatterternary\":[{\"marker\":{\"colorbar\":{\"outlinewidth\":0,\"ticks\":\"\"}},\"type\":\"scatterternary\"}],\"surface\":[{\"colorbar\":{\"outlinewidth\":0,\"ticks\":\"\"},\"colorscale\":[[0.0,\"#0d0887\"],[0.1111111111111111,\"#46039f\"],[0.2222222222222222,\"#7201a8\"],[0.3333333333333333,\"#9c179e\"],[0.4444444444444444,\"#bd3786\"],[0.5555555555555556,\"#d8576b\"],[0.6666666666666666,\"#ed7953\"],[0.7777777777777778,\"#fb9f3a\"],[0.8888888888888888,\"#fdca26\"],[1.0,\"#f0f921\"]],\"type\":\"surface\"}],\"table\":[{\"cells\":{\"fill\":{\"color\":\"#EBF0F8\"},\"line\":{\"color\":\"white\"}},\"header\":{\"fill\":{\"color\":\"#C8D4E3\"},\"line\":{\"color\":\"white\"}},\"type\":\"table\"}]},\"layout\":{\"annotationdefaults\":{\"arrowcolor\":\"#2a3f5f\",\"arrowhead\":0,\"arrowwidth\":1},\"autotypenumbers\":\"strict\",\"coloraxis\":{\"colorbar\":{\"outlinewidth\":0,\"ticks\":\"\"}},\"colorscale\":{\"diverging\":[[0,\"#8e0152\"],[0.1,\"#c51b7d\"],[0.2,\"#de77ae\"],[0.3,\"#f1b6da\"],[0.4,\"#fde0ef\"],[0.5,\"#f7f7f7\"],[0.6,\"#e6f5d0\"],[0.7,\"#b8e186\"],[0.8,\"#7fbc41\"],[0.9,\"#4d9221\"],[1,\"#276419\"]],\"sequential\":[[0.0,\"#0d0887\"],[0.1111111111111111,\"#46039f\"],[0.2222222222222222,\"#7201a8\"],[0.3333333333333333,\"#9c179e\"],[0.4444444444444444,\"#bd3786\"],[0.5555555555555556,\"#d8576b\"],[0.6666666666666666,\"#ed7953\"],[0.7777777777777778,\"#fb9f3a\"],[0.8888888888888888,\"#fdca26\"],[1.0,\"#f0f921\"]],\"sequentialminus\":[[0.0,\"#0d0887\"],[0.1111111111111111,\"#46039f\"],[0.2222222222222222,\"#7201a8\"],[0.3333333333333333,\"#9c179e\"],[0.4444444444444444,\"#bd3786\"],[0.5555555555555556,\"#d8576b\"],[0.6666666666666666,\"#ed7953\"],[0.7777777777777778,\"#fb9f3a\"],[0.8888888888888888,\"#fdca26\"],[1.0,\"#f0f921\"]]},\"colorway\":[\"#636efa\",\"#EF553B\",\"#00cc96\",\"#ab63fa\",\"#FFA15A\",\"#19d3f3\",\"#FF6692\",\"#B6E880\",\"#FF97FF\",\"#FECB52\"],\"font\":{\"color\":\"#2a3f5f\"},\"geo\":{\"bgcolor\":\"white\",\"lakecolor\":\"white\",\"landcolor\":\"#E5ECF6\",\"showlakes\":true,\"showland\":true,\"subunitcolor\":\"white\"},\"hoverlabel\":{\"align\":\"left\"},\"hovermode\":\"closest\",\"mapbox\":{\"style\":\"light\"},\"paper_bgcolor\":\"white\",\"plot_bgcolor\":\"#E5ECF6\",\"polar\":{\"angularaxis\":{\"gridcolor\":\"white\",\"linecolor\":\"white\",\"ticks\":\"\"},\"bgcolor\":\"#E5ECF6\",\"radialaxis\":{\"gridcolor\":\"white\",\"linecolor\":\"white\",\"ticks\":\"\"}},\"scene\":{\"xaxis\":{\"backgroundcolor\":\"#E5ECF6\",\"gridcolor\":\"white\",\"gridwidth\":2,\"linecolor\":\"white\",\"showbackground\":true,\"ticks\":\"\",\"zerolinecolor\":\"white\"},\"yaxis\":{\"backgroundcolor\":\"#E5ECF6\",\"gridcolor\":\"white\",\"gridwidth\":2,\"linecolor\":\"white\",\"showbackground\":true,\"ticks\":\"\",\"zerolinecolor\":\"white\"},\"zaxis\":{\"backgroundcolor\":\"#E5ECF6\",\"gridcolor\":\"white\",\"gridwidth\":2,\"linecolor\":\"white\",\"showbackground\":true,\"ticks\":\"\",\"zerolinecolor\":\"white\"}},\"shapedefaults\":{\"line\":{\"color\":\"#2a3f5f\"}},\"ternary\":{\"aaxis\":{\"gridcolor\":\"white\",\"linecolor\":\"white\",\"ticks\":\"\"},\"baxis\":{\"gridcolor\":\"white\",\"linecolor\":\"white\",\"ticks\":\"\"},\"bgcolor\":\"#E5ECF6\",\"caxis\":{\"gridcolor\":\"white\",\"linecolor\":\"white\",\"ticks\":\"\"}},\"title\":{\"x\":0.05},\"xaxis\":{\"automargin\":true,\"gridcolor\":\"white\",\"linecolor\":\"white\",\"ticks\":\"\",\"title\":{\"standoff\":15},\"zerolinecolor\":\"white\",\"zerolinewidth\":2},\"yaxis\":{\"automargin\":true,\"gridcolor\":\"white\",\"linecolor\":\"white\",\"ticks\":\"\",\"title\":{\"standoff\":15},\"zerolinecolor\":\"white\",\"zerolinewidth\":2}}},\"title\":{\"font\":{\"color\":\"#484848\"},\"text\":\"Result Analysis\"},\"width\":600,\"xaxis\":{\"gridcolor\":\"#E1E5ED\",\"showgrid\":true,\"tickfont\":{\"color\":\"#505050\"},\"title\":{\"font\":{\"color\":\"#505050\"},\"text\":\"Models\"},\"zerolinecolor\":\"#E1E5ED\"},\"yaxis\":{\"gridcolor\":\"#E1E5ED\",\"showgrid\":true,\"tickfont\":{\"color\":\"#505050\"},\"title\":{\"font\":{\"color\":\"#505050\"},\"text\":\"Accuracy\"},\"zerolinecolor\":\"#E1E5ED\"}},                        {\"showLink\": true, \"linkText\": \"Export to plot.ly\", \"plotlyServerURL\": \"https://plot.ly\", \"responsive\": true}                    ).then(function(){\n",
       "                            \n",
       "var gd = document.getElementById('7011c50e-62d4-4251-a98d-a18d2a9392ac');\n",
       "var x = new MutationObserver(function (mutations, observer) {{\n",
       "        var display = window.getComputedStyle(gd).display;\n",
       "        if (!display || display === 'none') {{\n",
       "            console.log([gd, 'removed!']);\n",
       "            Plotly.purge(gd);\n",
       "            observer.disconnect();\n",
       "        }}\n",
       "}});\n",
       "\n",
       "// Listen for the removal of the full notebook cells\n",
       "var notebookContainer = gd.closest('#notebook-container');\n",
       "if (notebookContainer) {{\n",
       "    x.observe(notebookContainer, {childList: true});\n",
       "}}\n",
       "\n",
       "// Listen for the clearing of the current output cell\n",
       "var outputEl = gd.closest('.output');\n",
       "if (outputEl) {{\n",
       "    x.observe(outputEl, {childList: true});\n",
       "}}\n",
       "\n",
       "                        })                };                });            </script>        </div>"
      ]
     },
     "metadata": {},
     "output_type": "display_data"
    }
   ],
   "source": [
    "df_model={'mname':names, 'mresult':results}\n",
    "df_dmodel=pd.DataFrame(data=df_model)\n",
    "bar_con=np.arange(len(names))\n",
    "labels = ['Bening', 'Botnet','OurWork']\n",
    "cfs.set_config_file(sharing='Public',theme='polar',offline=True)\n",
    "benign_bot_status=df_dmodel.set_index('mname')\n",
    "benign_bot_status.iplot(kind='bar',color='blue',xTitle=\"Models\",yTitle=\"Accuracy\",dimensions=(600,450),\n",
    "                        title='Result Analysis',bargap=0.2,sortbars=True)\n"
   ]
  },
  {
   "cell_type": "code",
   "execution_count": null,
   "metadata": {},
   "outputs": [],
   "source": [
    "# model_set = set(df_dmodel['mname'])\n",
    "# plt.figure()\n",
    "# for mlc in model_set:\n",
    "#     selected_data = df_dmodel.loc[df_dmodel['mname'] == mlc]\n",
    "#     plt.plot(selected_data['mname'], selected_data['mresult'], label=mlc)\n",
    "# plt.legend()\n",
    "# plt.show()"
   ]
  }
 ],
 "metadata": {
  "kernelspec": {
   "display_name": "Python 3 (ipykernel)",
   "language": "python",
   "name": "python3"
  },
  "language_info": {
   "codemirror_mode": {
    "name": "ipython",
    "version": 3
   },
   "file_extension": ".py",
   "mimetype": "text/x-python",
   "name": "python",
   "nbconvert_exporter": "python",
   "pygments_lexer": "ipython3",
   "version": "3.9.7"
  }
 },
 "nbformat": 4,
 "nbformat_minor": 4
}
